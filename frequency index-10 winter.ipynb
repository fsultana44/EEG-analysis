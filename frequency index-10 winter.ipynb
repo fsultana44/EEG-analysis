{
 "cells": [
  {
   "cell_type": "code",
   "execution_count": 3,
   "metadata": {},
   "outputs": [],
   "source": [
    "import os\n",
    "import mne\n",
    "import numpy as np\n",
    "import matplotlib.pyplot as plt\n",
    "from datetime import timedelta\n",
    "from mne.preprocessing import ICA,read_ica"
   ]
  },
  {
   "cell_type": "code",
   "execution_count": 4,
   "metadata": {},
   "outputs": [
    {
     "name": "stdout",
     "output_type": "stream",
     "text": [
      "Opening raw data file C:\\Users\\user\\Desktop\\Winter data\\Winter ICA\\19122019_2.fif...\n",
      "    Range : 0 ... 361215 =      0.000 ...  1410.996 secs\n",
      "Ready.\n",
      "Reading 0 ... 361215  =      0.000 ...  1410.996 secs...\n"
     ]
    },
    {
     "name": "stderr",
     "output_type": "stream",
     "text": [
      "<ipython-input-4-f526042a28a8>:3: RuntimeWarning: This filename (C:\\Users\\user\\Desktop\\Winter data\\Winter ICA\\19122019_2.fif) does not conform to MNE naming conventions. All raw files should end with raw.fif, raw_sss.fif, raw_tsss.fif, raw.fif.gz, raw_sss.fif.gz, raw_tsss.fif.gz or _meg.fif\n",
      "  raw = mne.io.read_raw_fif(sample_data_raw_file, preload=True)\n"
     ]
    }
   ],
   "source": [
    "#read the ica file from the folder\n",
    "sample_data_raw_file=(r'C:\\Users\\user\\Desktop\\Winter data\\Winter ICA\\19122019_2.fif')\n",
    "raw = mne.io.read_raw_fif(sample_data_raw_file, preload=True)\n",
    "raw_temp=raw.copy()#.crop(600., 620.) #Copy the raw data and crop the 30 sec data basically skype call\n",
    "raw_ch = raw_temp.pick_channels(['AF3', 'F3', 'F4', 'AF4']) # select only one channel"
   ]
  },
  {
   "cell_type": "code",
   "execution_count": 5,
   "metadata": {},
   "outputs": [
    {
     "data": {
      "text/plain": [
       "['AF3', 'F3', 'F4', 'AF4']"
      ]
     },
     "execution_count": 5,
     "metadata": {},
     "output_type": "execute_result"
    }
   ],
   "source": [
    "raw_temp.info['ch_names']"
   ]
  },
  {
   "cell_type": "code",
   "execution_count": 6,
   "metadata": {},
   "outputs": [],
   "source": [
    "ey_op =raw_ch.copy().crop(6., 16)# copy the data\n",
    "ey_cl =raw_ch.copy().crop(27., 37.)\n",
    "phase_1 =raw_ch.copy().crop(389., 399.)\n",
    "phase_2 =raw_ch.copy().crop(811., 821.)\n",
    "#m2_bf =raw_ch.copy().crop(1250., 1260.)\n",
    "#m2_af =raw_ch.copy().crop(1277., 1287.)\n",
    "#ph_4_bf =raw_ch.copy().crop(1605., 1615.)\n",
    "#ph_4_af =raw_ch.copy().crop(1655., 1665.)\n",
    "\n",
    "\n",
    "\n",
    "#data,times = sk_bf[:]\n",
    "#print(data.size)\n",
    "#print(data)\n",
    "#sk_bf.plot(scalings={\"eeg\": 75e-6})"
   ]
  },
  {
   "cell_type": "code",
   "execution_count": 7,
   "metadata": {},
   "outputs": [],
   "source": [
    "#data0,times0 = ph0[:] #extract times and data\n",
    "#print(len(data))\n",
    "#print(data.shape)\n",
    "#s=1/times\n",
    "#print(len(s))\n",
    "#plt.plot(times, data.T)\n",
    "#plt.show()\n",
    "#data_sk,times_sk= ph1_sk[:] \n",
    "#data_m1,times_m1= ph2_m1[:]\n",
    "#data_m2,times_m2= ph2_m2[:]\n",
    "#data_3,times_3= ph_3[:]\n",
    "#data_4,times_4= ph_4[:]\n",
    "#data_5,times_5= ph_5[:]"
   ]
  },
  {
   "cell_type": "code",
   "execution_count": 8,
   "metadata": {},
   "outputs": [],
   "source": [
    "from mne.time_frequency import psd_welch\n",
    "def eeg_power_band(data):\n",
    "    \"\"\"EEG power band feature extraction.\n",
    "\n",
    "\n",
    "    \"\"\"\n",
    "    # specific frequency bands\n",
    "    FREQ_BANDS = {#\"delta\": [0.5, 4.5],\n",
    "                  #\"theta\": [4, 8],\n",
    "                  \"alpha\": [8, 13],\n",
    "                  \"beta\": [13, 30]}\n",
    "                  #\"gamma\": [30, 56]}\n",
    "\n",
    "    psds, freqs = psd_welch(data, picks=['AF3', 'F3', \n",
    "                                          'F4', 'AF4'],\n",
    "                            fmin=8, fmax=30.)\n",
    "    \n",
    "    #print(psds.shape)\n",
    "    #print(freqs.shape)\n",
    "    #plt.semilogy(freqs, (psds.T))\n",
    "    #plt.xlabel('frequency [Hz]')\n",
    "    #plt.ylabel('Linear spectrum [V RMS]')\n",
    "    #plt.show()\n",
    "    # Normalize the PSDs\n",
    "    psds /= np.sum(psds, axis=-1, keepdims=True)\n",
    "\n",
    "    X = []\n",
    "    for fmin, fmax in FREQ_BANDS.values():\n",
    "        psds_band = psds[:,  (freqs >= fmin) & (freqs < fmax)].mean(axis=-1)    #:,\n",
    "        X.append(psds_band.reshape(len(psds), -1))\n",
    "\n",
    "    return np.concatenate(X, axis=1)"
   ]
  },
  {
   "cell_type": "code",
   "execution_count": 9,
   "metadata": {},
   "outputs": [
    {
     "name": "stdout",
     "output_type": "stream",
     "text": [
      "Effective window size : 1.000 (s)\n",
      "Effective window size : 1.000 (s)\n",
      "Effective window size : 1.000 (s)\n",
      "Effective window size : 1.000 (s)\n"
     ]
    }
   ],
   "source": [
    "power_ey_op = eeg_power_band(ey_op)\n",
    "#print(power_ey_op)\n",
    "power_ey_cl = eeg_power_band(ey_cl)\n",
    "#print(power_ey_cl)\n",
    "power_1 = eeg_power_band(phase_1)\n",
    "power_2 = eeg_power_band(phase_2)\n",
    "#power_4 = eeg_power_band(m2_bf)\n",
    "#power_5 = eeg_power_band(m2_af)\n",
    "#power_6 = eeg_power_band(ph_4_bf)\n",
    "#power_7 = eeg_power_band(ph_4_af)"
   ]
  },
  {
   "cell_type": "code",
   "execution_count": 10,
   "metadata": {},
   "outputs": [],
   "source": [
    "import pandas as pd\n",
    "ch_name = ['AF3', 'F3',  'F4', 'AF4']\n",
    "column = [\"alpha\",\"beta\"]\n",
    "\n",
    "#print(F1)\n"
   ]
  },
  {
   "cell_type": "code",
   "execution_count": 11,
   "metadata": {},
   "outputs": [],
   "source": [
    "df_0= pd.DataFrame(power_ey_op, columns = column)\n",
    "F0 = df_0.assign(**{'ch_name':ch_name,\n",
    "               'phase': 'eye_op'})\n",
    "F0\n",
    "df_1= pd.DataFrame(power_ey_cl, columns = column)\n",
    "F1 = df_1.assign(**{'ch_name':ch_name,\n",
    "               'phase':'eye_cl'})\n",
    "df_2= pd.DataFrame(power_1, columns = column)\n",
    "F2 = df_2.assign(**{'ch_name':ch_name,\n",
    "               'phase': 1})\n",
    "df_3= pd.DataFrame(power_2, columns = column)\n",
    "F3 = df_3.assign(**{'ch_name':ch_name,\n",
    "               'phase': 2})\n"
   ]
  },
  {
   "cell_type": "code",
   "execution_count": 12,
   "metadata": {},
   "outputs": [
    {
     "data": {
      "text/html": [
       "<div>\n",
       "<style scoped>\n",
       "    .dataframe tbody tr th:only-of-type {\n",
       "        vertical-align: middle;\n",
       "    }\n",
       "\n",
       "    .dataframe tbody tr th {\n",
       "        vertical-align: top;\n",
       "    }\n",
       "\n",
       "    .dataframe thead th {\n",
       "        text-align: right;\n",
       "    }\n",
       "</style>\n",
       "<table border=\"1\" class=\"dataframe\">\n",
       "  <thead>\n",
       "    <tr style=\"text-align: right;\">\n",
       "      <th></th>\n",
       "      <th>alpha</th>\n",
       "      <th>beta</th>\n",
       "      <th>ch_name</th>\n",
       "    </tr>\n",
       "    <tr>\n",
       "      <th>phase</th>\n",
       "      <th></th>\n",
       "      <th></th>\n",
       "      <th></th>\n",
       "    </tr>\n",
       "  </thead>\n",
       "  <tbody>\n",
       "    <tr>\n",
       "      <td>eye_op</td>\n",
       "      <td>0.058668</td>\n",
       "      <td>0.038422</td>\n",
       "      <td>AF3</td>\n",
       "    </tr>\n",
       "    <tr>\n",
       "      <td>eye_op</td>\n",
       "      <td>0.074270</td>\n",
       "      <td>0.035793</td>\n",
       "      <td>F3</td>\n",
       "    </tr>\n",
       "    <tr>\n",
       "      <td>eye_op</td>\n",
       "      <td>0.088396</td>\n",
       "      <td>0.031478</td>\n",
       "      <td>F4</td>\n",
       "    </tr>\n",
       "    <tr>\n",
       "      <td>eye_op</td>\n",
       "      <td>0.070029</td>\n",
       "      <td>0.035174</td>\n",
       "      <td>AF4</td>\n",
       "    </tr>\n",
       "    <tr>\n",
       "      <td>eye_cl</td>\n",
       "      <td>0.063516</td>\n",
       "      <td>0.038127</td>\n",
       "      <td>AF3</td>\n",
       "    </tr>\n",
       "    <tr>\n",
       "      <td>eye_cl</td>\n",
       "      <td>0.088172</td>\n",
       "      <td>0.031239</td>\n",
       "      <td>F3</td>\n",
       "    </tr>\n",
       "    <tr>\n",
       "      <td>eye_cl</td>\n",
       "      <td>0.071012</td>\n",
       "      <td>0.035423</td>\n",
       "      <td>F4</td>\n",
       "    </tr>\n",
       "    <tr>\n",
       "      <td>eye_cl</td>\n",
       "      <td>0.068492</td>\n",
       "      <td>0.036351</td>\n",
       "      <td>AF4</td>\n",
       "    </tr>\n",
       "    <tr>\n",
       "      <td>1</td>\n",
       "      <td>0.038381</td>\n",
       "      <td>0.044395</td>\n",
       "      <td>AF3</td>\n",
       "    </tr>\n",
       "    <tr>\n",
       "      <td>1</td>\n",
       "      <td>0.031858</td>\n",
       "      <td>0.047387</td>\n",
       "      <td>F3</td>\n",
       "    </tr>\n",
       "    <tr>\n",
       "      <td>1</td>\n",
       "      <td>0.042277</td>\n",
       "      <td>0.043993</td>\n",
       "      <td>F4</td>\n",
       "    </tr>\n",
       "    <tr>\n",
       "      <td>1</td>\n",
       "      <td>0.038862</td>\n",
       "      <td>0.044478</td>\n",
       "      <td>AF4</td>\n",
       "    </tr>\n",
       "    <tr>\n",
       "      <td>2</td>\n",
       "      <td>0.024990</td>\n",
       "      <td>0.047344</td>\n",
       "      <td>AF3</td>\n",
       "    </tr>\n",
       "    <tr>\n",
       "      <td>2</td>\n",
       "      <td>0.022743</td>\n",
       "      <td>0.048411</td>\n",
       "      <td>F3</td>\n",
       "    </tr>\n",
       "    <tr>\n",
       "      <td>2</td>\n",
       "      <td>0.038261</td>\n",
       "      <td>0.043958</td>\n",
       "      <td>F4</td>\n",
       "    </tr>\n",
       "    <tr>\n",
       "      <td>2</td>\n",
       "      <td>0.022970</td>\n",
       "      <td>0.047643</td>\n",
       "      <td>AF4</td>\n",
       "    </tr>\n",
       "  </tbody>\n",
       "</table>\n",
       "</div>"
      ],
      "text/plain": [
       "           alpha      beta ch_name\n",
       "phase                             \n",
       "eye_op  0.058668  0.038422     AF3\n",
       "eye_op  0.074270  0.035793      F3\n",
       "eye_op  0.088396  0.031478      F4\n",
       "eye_op  0.070029  0.035174     AF4\n",
       "eye_cl  0.063516  0.038127     AF3\n",
       "eye_cl  0.088172  0.031239      F3\n",
       "eye_cl  0.071012  0.035423      F4\n",
       "eye_cl  0.068492  0.036351     AF4\n",
       "1       0.038381  0.044395     AF3\n",
       "1       0.031858  0.047387      F3\n",
       "1       0.042277  0.043993      F4\n",
       "1       0.038862  0.044478     AF4\n",
       "2       0.024990  0.047344     AF3\n",
       "2       0.022743  0.048411      F3\n",
       "2       0.038261  0.043958      F4\n",
       "2       0.022970  0.047643     AF4"
      ]
     },
     "execution_count": 12,
     "metadata": {},
     "output_type": "execute_result"
    }
   ],
   "source": [
    "result =result = pd.concat([F0,F1,F2,F3], sort=False)\n",
    "result.set_index('phase',inplace=True)\n",
    "result"
   ]
  },
  {
   "cell_type": "code",
   "execution_count": 13,
   "metadata": {},
   "outputs": [],
   "source": [
    "#save the data to a csv_file.\n",
    "result.to_csv(r'C:\\Users\\user\\Desktop\\Winter data\\Winter ICA\\feature\\19122019_2.csv')"
   ]
  },
  {
   "cell_type": "code",
   "execution_count": null,
   "metadata": {},
   "outputs": [],
   "source": []
  }
 ],
 "metadata": {
  "kernelspec": {
   "display_name": "Python 3",
   "language": "python",
   "name": "python3"
  },
  "language_info": {
   "codemirror_mode": {
    "name": "ipython",
    "version": 3
   },
   "file_extension": ".py",
   "mimetype": "text/x-python",
   "name": "python",
   "nbconvert_exporter": "python",
   "pygments_lexer": "ipython3",
   "version": "3.7.4"
  }
 },
 "nbformat": 4,
 "nbformat_minor": 2
}
