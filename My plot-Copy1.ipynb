{
 "cells": [
  {
   "cell_type": "code",
   "execution_count": 1,
   "metadata": {},
   "outputs": [],
   "source": [
    "#import all important library\n",
    "import pandas as pd\n",
    "import glob\n",
    "import matplotlib.pyplot as plt\n",
    "%matplotlib inline\n",
    "import seaborn as sns"
   ]
  },
  {
   "cell_type": "code",
   "execution_count": 3,
   "metadata": {
    "scrolled": true
   },
   "outputs": [],
   "source": [
    "#load the data file and read it\n",
    "path =  r'C:\\Users\\user\\Desktop\\2nd round\\F3_complt.csv'\n",
    "df = pd.read_csv(path)\n",
    "#df\n",
    "#df.boxplot(column=['E_theta','E_alpha', 'E_beta', 'E_gamma','rto_theta','rto_alpha'],showfliers=False)"
   ]
  },
  {
   "cell_type": "code",
   "execution_count": 4,
   "metadata": {},
   "outputs": [
    {
     "data": {
      "text/html": [
       "<div>\n",
       "<style scoped>\n",
       "    .dataframe tbody tr th:only-of-type {\n",
       "        vertical-align: middle;\n",
       "    }\n",
       "\n",
       "    .dataframe tbody tr th {\n",
       "        vertical-align: top;\n",
       "    }\n",
       "\n",
       "    .dataframe thead th {\n",
       "        text-align: right;\n",
       "    }\n",
       "</style>\n",
       "<table border=\"1\" class=\"dataframe\">\n",
       "  <thead>\n",
       "    <tr style=\"text-align: right;\">\n",
       "      <th></th>\n",
       "      <th>Ph0_dif</th>\n",
       "      <th>skp_dif</th>\n",
       "      <th>m1_dif</th>\n",
       "      <th>m2_dif</th>\n",
       "      <th>Ph3_dif</th>\n",
       "      <th>Ph4_dif</th>\n",
       "      <th>Ph5_dif</th>\n",
       "      <th>Ph0_nor</th>\n",
       "      <th>skp_nor</th>\n",
       "      <th>m1_nor</th>\n",
       "      <th>m2_nor</th>\n",
       "      <th>Ph3_nor</th>\n",
       "    </tr>\n",
       "  </thead>\n",
       "  <tbody>\n",
       "    <tr>\n",
       "      <td>0</td>\n",
       "      <td>-0.000164</td>\n",
       "      <td>0.012906</td>\n",
       "      <td>0.002850</td>\n",
       "      <td>-0.002749</td>\n",
       "      <td>0.011607</td>\n",
       "      <td>0.011339</td>\n",
       "      <td>0.001717</td>\n",
       "      <td>0.998239</td>\n",
       "      <td>1.579122</td>\n",
       "      <td>1.147814</td>\n",
       "      <td>0.856425</td>\n",
       "      <td>1.137933</td>\n",
       "    </tr>\n",
       "    <tr>\n",
       "      <td>1</td>\n",
       "      <td>-0.001909</td>\n",
       "      <td>0.006668</td>\n",
       "      <td>-0.001448</td>\n",
       "      <td>-0.006292</td>\n",
       "      <td>-0.000830</td>\n",
       "      <td>0.003788</td>\n",
       "      <td>-0.000156</td>\n",
       "      <td>0.980013</td>\n",
       "      <td>1.431136</td>\n",
       "      <td>0.919589</td>\n",
       "      <td>0.648609</td>\n",
       "      <td>0.991252</td>\n",
       "    </tr>\n",
       "    <tr>\n",
       "      <td>2</td>\n",
       "      <td>-0.002954</td>\n",
       "      <td>-0.003567</td>\n",
       "      <td>-0.000049</td>\n",
       "      <td>-0.000303</td>\n",
       "      <td>0.004298</td>\n",
       "      <td>0.012069</td>\n",
       "      <td>0.004414</td>\n",
       "      <td>0.967577</td>\n",
       "      <td>0.679676</td>\n",
       "      <td>0.996867</td>\n",
       "      <td>0.980602</td>\n",
       "      <td>1.047420</td>\n",
       "    </tr>\n",
       "    <tr>\n",
       "      <td>3</td>\n",
       "      <td>-0.001660</td>\n",
       "      <td>0.001840</td>\n",
       "      <td>-0.004507</td>\n",
       "      <td>-0.004578</td>\n",
       "      <td>0.000778</td>\n",
       "      <td>0.000240</td>\n",
       "      <td>0.002449</td>\n",
       "      <td>0.981602</td>\n",
       "      <td>1.072600</td>\n",
       "      <td>0.815662</td>\n",
       "      <td>0.805854</td>\n",
       "      <td>1.008259</td>\n",
       "    </tr>\n",
       "    <tr>\n",
       "      <td>4</td>\n",
       "      <td>-0.003197</td>\n",
       "      <td>-0.000043</td>\n",
       "      <td>-0.002881</td>\n",
       "      <td>0.015517</td>\n",
       "      <td>0.001311</td>\n",
       "      <td>0.002661</td>\n",
       "      <td>0.002212</td>\n",
       "      <td>0.966072</td>\n",
       "      <td>0.997141</td>\n",
       "      <td>0.818344</td>\n",
       "      <td>2.162364</td>\n",
       "      <td>1.014190</td>\n",
       "    </tr>\n",
       "    <tr>\n",
       "      <td>5</td>\n",
       "      <td>-0.002362</td>\n",
       "      <td>0.001193</td>\n",
       "      <td>-0.000490</td>\n",
       "      <td>-0.001094</td>\n",
       "      <td>0.002234</td>\n",
       "      <td>0.004393</td>\n",
       "      <td>-0.000944</td>\n",
       "      <td>0.974593</td>\n",
       "      <td>1.085254</td>\n",
       "      <td>0.971652</td>\n",
       "      <td>0.935409</td>\n",
       "      <td>1.024156</td>\n",
       "    </tr>\n",
       "    <tr>\n",
       "      <td>6</td>\n",
       "      <td>-0.001001</td>\n",
       "      <td>-0.002391</td>\n",
       "      <td>0.004604</td>\n",
       "      <td>0.003683</td>\n",
       "      <td>-0.003869</td>\n",
       "      <td>-0.005323</td>\n",
       "      <td>-0.002295</td>\n",
       "      <td>0.989654</td>\n",
       "      <td>0.835448</td>\n",
       "      <td>1.219999</td>\n",
       "      <td>1.156543</td>\n",
       "      <td>0.959582</td>\n",
       "    </tr>\n",
       "    <tr>\n",
       "      <td>7</td>\n",
       "      <td>-0.000880</td>\n",
       "      <td>0.002111</td>\n",
       "      <td>0.000610</td>\n",
       "      <td>-0.000895</td>\n",
       "      <td>-0.005550</td>\n",
       "      <td>-0.000708</td>\n",
       "      <td>-0.004757</td>\n",
       "      <td>0.990481</td>\n",
       "      <td>1.452628</td>\n",
       "      <td>1.166397</td>\n",
       "      <td>0.849419</td>\n",
       "      <td>0.935209</td>\n",
       "    </tr>\n",
       "    <tr>\n",
       "      <td>8</td>\n",
       "      <td>-0.007119</td>\n",
       "      <td>0.000459</td>\n",
       "      <td>-0.005739</td>\n",
       "      <td>-0.003661</td>\n",
       "      <td>0.003120</td>\n",
       "      <td>0.002336</td>\n",
       "      <td>0.006426</td>\n",
       "      <td>0.925569</td>\n",
       "      <td>1.023453</td>\n",
       "      <td>0.771007</td>\n",
       "      <td>0.851556</td>\n",
       "      <td>1.034378</td>\n",
       "    </tr>\n",
       "    <tr>\n",
       "      <td>9</td>\n",
       "      <td>0.008795</td>\n",
       "      <td>-0.006245</td>\n",
       "      <td>0.003076</td>\n",
       "      <td>-0.010722</td>\n",
       "      <td>0.008658</td>\n",
       "      <td>-0.008712</td>\n",
       "      <td>0.006634</td>\n",
       "      <td>1.101166</td>\n",
       "      <td>0.851386</td>\n",
       "      <td>1.381029</td>\n",
       "      <td>0.410554</td>\n",
       "      <td>1.110486</td>\n",
       "    </tr>\n",
       "    <tr>\n",
       "      <td>10</td>\n",
       "      <td>-0.002289</td>\n",
       "      <td>-0.002015</td>\n",
       "      <td>-0.001863</td>\n",
       "      <td>-0.002997</td>\n",
       "      <td>0.005743</td>\n",
       "      <td>0.006195</td>\n",
       "      <td>-0.013725</td>\n",
       "      <td>0.974887</td>\n",
       "      <td>0.680213</td>\n",
       "      <td>0.697104</td>\n",
       "      <td>0.614586</td>\n",
       "      <td>1.064451</td>\n",
       "    </tr>\n",
       "    <tr>\n",
       "      <td>11</td>\n",
       "      <td>0.009448</td>\n",
       "      <td>-0.002837</td>\n",
       "      <td>-0.002378</td>\n",
       "      <td>0.004474</td>\n",
       "      <td>-0.005794</td>\n",
       "      <td>-0.002783</td>\n",
       "      <td>-0.001818</td>\n",
       "      <td>1.109561</td>\n",
       "      <td>0.795702</td>\n",
       "      <td>0.820934</td>\n",
       "      <td>1.307054</td>\n",
       "      <td>0.938159</td>\n",
       "    </tr>\n",
       "    <tr>\n",
       "      <td>12</td>\n",
       "      <td>0.001161</td>\n",
       "      <td>0.007260</td>\n",
       "      <td>0.002224</td>\n",
       "      <td>0.006491</td>\n",
       "      <td>-0.000145</td>\n",
       "      <td>0.000278</td>\n",
       "      <td>-0.002230</td>\n",
       "      <td>1.012190</td>\n",
       "      <td>1.403315</td>\n",
       "      <td>1.080350</td>\n",
       "      <td>1.285751</td>\n",
       "      <td>0.998498</td>\n",
       "    </tr>\n",
       "    <tr>\n",
       "      <td>13</td>\n",
       "      <td>-0.005609</td>\n",
       "      <td>0.000527</td>\n",
       "      <td>-0.004861</td>\n",
       "      <td>-0.000220</td>\n",
       "      <td>0.006495</td>\n",
       "      <td>0.003905</td>\n",
       "      <td>0.002084</td>\n",
       "      <td>0.942537</td>\n",
       "      <td>1.109934</td>\n",
       "      <td>0.610042</td>\n",
       "      <td>0.964067</td>\n",
       "      <td>1.071618</td>\n",
       "    </tr>\n",
       "  </tbody>\n",
       "</table>\n",
       "</div>"
      ],
      "text/plain": [
       "     Ph0_dif   skp_dif    m1_dif    m2_dif   Ph3_dif   Ph4_dif   Ph5_dif  \\\n",
       "0  -0.000164  0.012906  0.002850 -0.002749  0.011607  0.011339  0.001717   \n",
       "1  -0.001909  0.006668 -0.001448 -0.006292 -0.000830  0.003788 -0.000156   \n",
       "2  -0.002954 -0.003567 -0.000049 -0.000303  0.004298  0.012069  0.004414   \n",
       "3  -0.001660  0.001840 -0.004507 -0.004578  0.000778  0.000240  0.002449   \n",
       "4  -0.003197 -0.000043 -0.002881  0.015517  0.001311  0.002661  0.002212   \n",
       "5  -0.002362  0.001193 -0.000490 -0.001094  0.002234  0.004393 -0.000944   \n",
       "6  -0.001001 -0.002391  0.004604  0.003683 -0.003869 -0.005323 -0.002295   \n",
       "7  -0.000880  0.002111  0.000610 -0.000895 -0.005550 -0.000708 -0.004757   \n",
       "8  -0.007119  0.000459 -0.005739 -0.003661  0.003120  0.002336  0.006426   \n",
       "9   0.008795 -0.006245  0.003076 -0.010722  0.008658 -0.008712  0.006634   \n",
       "10 -0.002289 -0.002015 -0.001863 -0.002997  0.005743  0.006195 -0.013725   \n",
       "11  0.009448 -0.002837 -0.002378  0.004474 -0.005794 -0.002783 -0.001818   \n",
       "12  0.001161  0.007260  0.002224  0.006491 -0.000145  0.000278 -0.002230   \n",
       "13 -0.005609  0.000527 -0.004861 -0.000220  0.006495  0.003905  0.002084   \n",
       "\n",
       "     Ph0_nor   skp_nor    m1_nor    m2_nor   Ph3_nor  \n",
       "0   0.998239  1.579122  1.147814  0.856425  1.137933  \n",
       "1   0.980013  1.431136  0.919589  0.648609  0.991252  \n",
       "2   0.967577  0.679676  0.996867  0.980602  1.047420  \n",
       "3   0.981602  1.072600  0.815662  0.805854  1.008259  \n",
       "4   0.966072  0.997141  0.818344  2.162364  1.014190  \n",
       "5   0.974593  1.085254  0.971652  0.935409  1.024156  \n",
       "6   0.989654  0.835448  1.219999  1.156543  0.959582  \n",
       "7   0.990481  1.452628  1.166397  0.849419  0.935209  \n",
       "8   0.925569  1.023453  0.771007  0.851556  1.034378  \n",
       "9   1.101166  0.851386  1.381029  0.410554  1.110486  \n",
       "10  0.974887  0.680213  0.697104  0.614586  1.064451  \n",
       "11  1.109561  0.795702  0.820934  1.307054  0.938159  \n",
       "12  1.012190  1.403315  1.080350  1.285751  0.998498  \n",
       "13  0.942537  1.109934  0.610042  0.964067  1.071618  "
      ]
     },
     "execution_count": 4,
     "metadata": {},
     "output_type": "execute_result"
    }
   ],
   "source": [
    "df.iloc[:,18:30]"
   ]
  },
  {
   "cell_type": "code",
   "execution_count": 5,
   "metadata": {},
   "outputs": [
    {
     "data": {
      "image/png": "[encoded data removed]",
      "text/plain": [
       "<Figure size 432x288 with 1 Axes>"
      ]
     },
     "metadata": {
      "needs_background": "light"
     },
     "output_type": "display_data"
    }
   ],
   "source": [
    "fig = plt.figure()\n",
    "fig.suptitle('Power for alpha band(differences)', fontsize=14)\n",
    "ax = fig.add_subplot(111)\n",
    "ax = df.boxplot(column=['Ph0_dif', 'skp_dif','m1_dif','m2_dif','Ph3_dif','Ph4_dif','Ph5_dif'],showfliers=False)\n",
    "ax.set_xlabel(\"phase\")\n",
    "ax.set_ylabel(\"power Index\")\n",
    "plt.show()\n",
    "                          \n"
   ]
  },
  {
   "cell_type": "code",
   "execution_count": 6,
   "metadata": {},
   "outputs": [
    {
     "data": {
      "image/png": "[encoded data removed]",
      "text/plain": [
       "<Figure size 432x288 with 1 Axes>"
      ]
     },
     "metadata": {
      "needs_background": "light"
     },
     "output_type": "display_data"
    }
   ],
   "source": [
    "fig = plt.figure()\n",
    "fig.suptitle('Power for alpha band(normalization)', fontsize=14)\n",
    "ax = fig.add_subplot(111)\n",
    "ax = df.boxplot(column=['Ph0_nor', 'skp_nor','m1_nor','m2_nor','Ph3_nor','Ph4_nor','Ph5_nor'],showfliers=False)\n",
    "ax.set_xlabel(\"phase\")\n",
    "ax.set_ylabel(\"power Index\")\n",
    "plt.show()\n"
   ]
  },
  {
   "cell_type": "code",
   "execution_count": null,
   "metadata": {},
   "outputs": [],
   "source": [
    "df.iloc[:,1:9]"
   ]
  },
  {
   "cell_type": "code",
   "execution_count": null,
   "metadata": {},
   "outputs": [],
   "source": [
    "#df.rename(columns={'tk-gamma_dif1':'T-beta_dif1','tk-gamma_dif2':'T-beta_dif2',\n",
    "                   #'tk-gamma_dif3':'T-beta_dif3','tk-gamma_dif4':'T-beta_dif4'},inplace=True)\n",
    "#df.iloc[:,66:70]"
   ]
  },
  {
   "cell_type": "code",
   "execution_count": null,
   "metadata": {},
   "outputs": [],
   "source": [
    "fig = plt.figure()\n",
    "fig.suptitle('Power for alpha band(normalization)', fontsize=14)\n",
    "axes = df.boxplot(column=['thet_dif1', 'thet_dif2','thet_dif3',\n",
    "                          'thet_dif4'],showfliers=False)\n",
    "                          \n",
    "plt.show()\n",
    "plt.xlabel(\"X axis label\")\n",
    "plt.ylabel(\"Y axis label\")\n",
    "#plt.savefig('C:/Users/user/Desktop/Boxplot1/FC2/Theta_diff.png')"
   ]
  },
  {
   "cell_type": "code",
   "execution_count": null,
   "metadata": {},
   "outputs": [],
   "source": [
    "fig = plt.figure()\n",
    "fig.suptitle('Power for theta band(normalized)', fontsize=14, fontweight='bold')\n",
    "axes = df.boxplot(column=['thet_nor 1', 'thet_nor 2',\n",
    "                          'thet_nor 3','thet_nor 4'],showfliers=False)\n",
    "#plt.show()\n",
    "plt.savefig('C:/Users/user/Desktop/Boxplot1/FC2/Theta_nor.png')"
   ]
  },
  {
   "cell_type": "code",
   "execution_count": null,
   "metadata": {},
   "outputs": [],
   "source": [
    "df.iloc[:,9:18]"
   ]
  },
  {
   "cell_type": "code",
   "execution_count": null,
   "metadata": {},
   "outputs": [],
   "source": [
    "fig = plt.figure()\n",
    "fig.suptitle('Power for alpha band(differences)', fontsize=14, fontweight='bold')\n",
    "axes = df.boxplot(column=['alph_dif 1', 'alph_dif 2)',\n",
    "                          'alph_dif 3','alph_dif 4'],showfliers=False)\n",
    "#for ax in axes.values():\n",
    "axes.set_ylim(-0.012, 0.013)\n",
    "                          \n",
    "#plt.show()\n",
    "plt.savefig('C:/Users/user/Desktop/Alph_diffF3.png')"
   ]
  },
  {
   "cell_type": "code",
   "execution_count": null,
   "metadata": {},
   "outputs": [],
   "source": [
    "fig = plt.figure()\n",
    "fig.suptitle('Power for beta band(differences)', fontsize=14, fontweight='bold')\n",
    "axes = df.boxplot(column=['bet_dif 1', 'bet_dif 2',\n",
    "                          'bet_dif 3','bet_dif 4'],showfliers=False)\n",
    "#plt.show()\n",
    "plt.savefig('C:/Users/user/Desktop/Boxplot1/FC2/beta_diff.png')"
   ]
  },
  {
   "cell_type": "code",
   "execution_count": null,
   "metadata": {},
   "outputs": [],
   "source": [
    "df.iloc[:,17:25]"
   ]
  },
  {
   "cell_type": "code",
   "execution_count": null,
   "metadata": {},
   "outputs": [],
   "source": [
    "fig = plt.figure()\n",
    "fig.suptitle('Power for alpha band(normalized)', fontsize=14, fontweight='bold')\n",
    "axes = df.boxplot(column=['alph_nor1', 'alph_nor2',\n",
    "                          'alph_nor3','alph_nor4'],showfliers=False)\n",
    "#plt.show()\n",
    "plt.savefig('C:/Users/user/Desktop/Boxplot1/FC2/alph_nor.png')"
   ]
  },
  {
   "cell_type": "code",
   "execution_count": null,
   "metadata": {},
   "outputs": [],
   "source": [
    "fig = plt.figure()\n",
    "fig.suptitle('Power for beta band(normalized)', fontsize=14, fontweight='bold')\n",
    "axes = df.boxplot(column=['Bet_nor1', 'bet_nor2',\n",
    "                          'beta_nor3','bet_nor4'],showfliers=False)\n",
    "#plt.show()\n",
    "plt.savefig('C:/Users/user/Desktop/Boxplot1/FC2/beta_nor.png')"
   ]
  },
  {
   "cell_type": "code",
   "execution_count": null,
   "metadata": {},
   "outputs": [],
   "source": [
    "#df.rename(columns={'T-bet dif1':'T-alpha_dif1','T-bet dif2':'T-alpha_dif2','T-bet dif3':'T-alpha_dif3','T-bet dif4':'T-alpha_dif4'},inplace=True)\n",
    "df.iloc[:,26:38]"
   ]
  },
  {
   "cell_type": "code",
   "execution_count": null,
   "metadata": {},
   "outputs": [],
   "source": [
    "fig = plt.figure()\n",
    "fig.suptitle('TKEO for for alpha band(difference)', fontsize=14, fontweight='bold')\n",
    "axes = df.boxplot(column=['T-alpha dif1', 'T-alpha dif2',\n",
    "                          'T-alpha dif3','T-alpha dif4'],showfliers=False)\n",
    "#plt.show()\n",
    "plt.savefig('C:/Users/user/Desktop/Boxplot1/FC2/T-alpha_dif.png')"
   ]
  },
  {
   "cell_type": "code",
   "execution_count": null,
   "metadata": {},
   "outputs": [],
   "source": [
    "fig = plt.figure()\n",
    "fig.suptitle('TKEO for for theta band(difference)', fontsize=14, fontweight='bold')\n",
    "axes = df.boxplot(column=['T-theta dif1', 'T-theta dif2',\n",
    "                          'T-theta dif3','T-theta dif4'],showfliers=False)\n",
    "#plt.show()\n",
    "plt.savefig('C:/Users/user/Desktop/Boxplot1/FC2/T-theta_dif.png')"
   ]
  },
  {
   "cell_type": "code",
   "execution_count": null,
   "metadata": {},
   "outputs": [],
   "source": [
    "fig = plt.figure()\n",
    "fig.suptitle('TKEO for for theta band(normalized)', fontsize=14, fontweight='bold')\n",
    "axes = df.boxplot(column=['T-theta nor1', 'T-theta nor2',\n",
    "                          'T-theta nor3','T-theta nor4'],showfliers=False)\n",
    "#plt.show()\n",
    "plt.savefig('C:/Users/user/Desktop/Boxplot1/FC2/T-theta_nor.png')"
   ]
  },
  {
   "cell_type": "code",
   "execution_count": null,
   "metadata": {},
   "outputs": [],
   "source": [
    "fig = plt.figure()\n",
    "fig.suptitle('TKEO for for alpha band(normalized)', fontsize=14, fontweight='bold')\n",
    "axes = df.boxplot(column=['T-alpha nor1', 'T-alpha nor2',\n",
    "                          'T-alpha nor3','T-alpha nor4'],showfliers=False)\n",
    "#plt.show()\n",
    "plt.savefig('C:/Users/user/Desktop/Boxplot1/FC2/T-alpha_nor.png')"
   ]
  },
  {
   "cell_type": "code",
   "execution_count": null,
   "metadata": {},
   "outputs": [],
   "source": [
    "df.iloc[:,42:52]"
   ]
  },
  {
   "cell_type": "code",
   "execution_count": null,
   "metadata": {},
   "outputs": [],
   "source": [
    "fig = plt.figure()\n",
    "fig.suptitle('Mean of the original signal(diff)', fontsize=14, fontweight='bold')\n",
    "axes = df.boxplot(column=['mn-dif1', 'mn-dif2',\n",
    "                          'mn-dif3','mn-dif4'],showfliers=False)\n",
    "#plt.show()\n",
    "plt.savefig('C:/Users/user/Desktop/Boxplot1/FC2/mean_diff.png')"
   ]
  },
  {
   "cell_type": "code",
   "execution_count": null,
   "metadata": {},
   "outputs": [],
   "source": [
    "fig = plt.figure()\n",
    "fig.suptitle('STD of the original signal(diff)', fontsize=14, fontweight='bold')\n",
    "axes = df.boxplot(column=['std-dif1', 'std-dif2',\n",
    "                          'std-dif3','std-dif4'],showfliers=False)\n",
    "#plt.show()\n",
    "plt.savefig('C:/Users/user/Desktop/Boxplot1/FC2/std_diff.png')"
   ]
  },
  {
   "cell_type": "code",
   "execution_count": null,
   "metadata": {},
   "outputs": [],
   "source": [
    "fig = plt.figure()\n",
    "fig.suptitle('Mean of the original signal(normalized)', fontsize=14, fontweight='bold')\n",
    "axes = df.boxplot(column=['mn-nor1', 'mn-nor2',\n",
    "                          'mn-nor3','mn-nor4'],showfliers=False)\n",
    "#plt.show()\n",
    "plt.savefig('C:/Users/user/Desktop/Boxplot1/FC2/mean_nor.png')"
   ]
  },
  {
   "cell_type": "code",
   "execution_count": null,
   "metadata": {},
   "outputs": [],
   "source": [
    "fig = plt.figure()\n",
    "fig.suptitle('std of the original signal(normalized)', fontsize=14, fontweight='bold')\n",
    "axes = df.boxplot(column=['std-nor1', 'std-nor2',\n",
    "                          'std-nor3','std-nor4'],showfliers=False)\n",
    "#plt.show()\n",
    "plt.savefig('C:/Users/user/Desktop/Boxplot1/FC2/std_nor.png')"
   ]
  },
  {
   "cell_type": "code",
   "execution_count": null,
   "metadata": {},
   "outputs": [],
   "source": []
  },
  {
   "cell_type": "code",
   "execution_count": null,
   "metadata": {},
   "outputs": [],
   "source": [
    "#df.rename(columns={'tk-gamma_nor1':'T-beta nor1','tk-gamma_nor2':'T-beta nor2',\n",
    "                  # 'tk-gamma_nor3':'T-beta nor3','tk-gamma_nor4':'T-beta nor4'},inplace=True)\n",
    "df.iloc[:,65:74]"
   ]
  },
  {
   "cell_type": "code",
   "execution_count": null,
   "metadata": {},
   "outputs": [],
   "source": [
    "fig = plt.figure()\n",
    "fig.suptitle('TKEO for beta band(normalized)', fontsize=14, fontweight='bold')\n",
    "axes = df.boxplot(column=['T-beta_nor1', 'T-beta_nor2',\n",
    "                          'T-beta_nor3','T-beta_nor4'],showfliers=False)\n",
    "#plt.show()\n",
    "plt.savefig('C:/Users/user/Desktop/Boxplot1/FC2/T_beta_nor.png')"
   ]
  },
  {
   "cell_type": "code",
   "execution_count": null,
   "metadata": {},
   "outputs": [],
   "source": [
    "fig = plt.figure()\n",
    "fig.suptitle('TKEO for beta band(diff)', fontsize=14, fontweight='bold')\n",
    "axes = df.boxplot(column=['T-beta_dif1', 'T-beta_dif2',\n",
    "                          'T-beta_dif3','T-beta_dif4'],showfliers=False)\n",
    "#plt.show()\n",
    "plt.savefig('C:/Users/user/Desktop/Boxplot1/FC2/T_beta_dif.png')"
   ]
  },
  {
   "cell_type": "code",
   "execution_count": null,
   "metadata": {},
   "outputs": [],
   "source": [
    "df.iloc[:,38:42]"
   ]
  },
  {
   "cell_type": "code",
   "execution_count": null,
   "metadata": {},
   "outputs": [],
   "source": [
    "#df.rename(columns={'T-bet nor1':'T-alpha nor1','T-bet nor2':'T-alpha nor2','T-bet nor3':'T-alpha nor3','T-bet nor4':'T-alpha nor4'},inplace=True)\n",
    "#df.iloc[:,38:42]"
   ]
  },
  {
   "cell_type": "code",
   "execution_count": null,
   "metadata": {},
   "outputs": [],
   "source": []
  },
  {
   "cell_type": "code",
   "execution_count": null,
   "metadata": {},
   "outputs": [],
   "source": [
    "#fig = plt.figure()\n",
    "#fig.suptitle('TKEO for alpha band(normalized)', fontsize=14, fontweight='bold')\n",
    "#axes = df.boxplot(column=['T-alpha nor1', 'T-alpha nor2','T-alpha nor3','T-alpha nor4'])\n",
    "#plt.show()\n",
    "#plt.savefig('C:/Users/user/Desktop/Boxplot1/FC2_T_alpha_nor.png')"
   ]
  },
  {
   "cell_type": "code",
   "execution_count": null,
   "metadata": {},
   "outputs": [],
   "source": []
  }
 ],
 "metadata": {
  "kernelspec": {
   "display_name": "Python 3",
   "language": "python",
   "name": "python3"
  },
  "language_info": {
   "codemirror_mode": {
    "name": "ipython",
    "version": 3
   },
   "file_extension": ".py",
   "mimetype": "text/x-python",
   "name": "python",
   "nbconvert_exporter": "python",
   "pygments_lexer": "ipython3",
   "version": "3.7.4"
  }
 },
 "nbformat": 4,
 "nbformat_minor": 2
}
