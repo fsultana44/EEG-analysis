{
 "cells": [
  {
   "cell_type": "code",
   "execution_count": 1,
   "metadata": {},
   "outputs": [],
   "source": [
    "import pandas as pd\n",
    "import glob"
   ]
  },
  {
   "cell_type": "code",
   "execution_count": 10,
   "metadata": {},
   "outputs": [],
   "source": [
    "path = r'C:\\Users\\user\\Desktop\\Winter data\\Winter ICA\\feature\\O2' # use your path\n",
    "all_files = glob.glob(path + \"/*.csv\")\n",
    "\n"
   ]
  },
  {
   "cell_type": "code",
   "execution_count": 11,
   "metadata": {},
   "outputs": [
    {
     "data": {
      "text/html": [
       "<div>\n",
       "<style scoped>\n",
       "    .dataframe tbody tr th:only-of-type {\n",
       "        vertical-align: middle;\n",
       "    }\n",
       "\n",
       "    .dataframe tbody tr th {\n",
       "        vertical-align: top;\n",
       "    }\n",
       "\n",
       "    .dataframe thead th {\n",
       "        text-align: right;\n",
       "    }\n",
       "</style>\n",
       "<table border=\"1\" class=\"dataframe\">\n",
       "  <thead>\n",
       "    <tr style=\"text-align: right;\">\n",
       "      <th></th>\n",
       "      <th>alpha_ey_cl</th>\n",
       "      <th>alpha_ey_op</th>\n",
       "      <th>alpha_ph1</th>\n",
       "      <th>alpha_ph2</th>\n",
       "      <th>beta_ey_cl</th>\n",
       "      <th>beta_ey_op</th>\n",
       "      <th>beta_ph1</th>\n",
       "      <th>beta_ph2</th>\n",
       "      <th>ch_name</th>\n",
       "      <th>sub ID</th>\n",
       "    </tr>\n",
       "  </thead>\n",
       "  <tbody>\n",
       "    <tr>\n",
       "      <td>0</td>\n",
       "      <td>0.046115</td>\n",
       "      <td>0.057736</td>\n",
       "      <td>0.061155</td>\n",
       "      <td>0.052793</td>\n",
       "      <td>0.042248</td>\n",
       "      <td>0.039712</td>\n",
       "      <td>0.038438</td>\n",
       "      <td>0.041604</td>\n",
       "      <td>O2</td>\n",
       "      <td>131220192</td>\n",
       "    </tr>\n",
       "    <tr>\n",
       "      <td>0</td>\n",
       "      <td>0.095471</td>\n",
       "      <td>0.066303</td>\n",
       "      <td>0.074363</td>\n",
       "      <td>0.069348</td>\n",
       "      <td>0.029700</td>\n",
       "      <td>0.037101</td>\n",
       "      <td>0.035555</td>\n",
       "      <td>0.037192</td>\n",
       "      <td>O2</td>\n",
       "      <td>161220191</td>\n",
       "    </tr>\n",
       "    <tr>\n",
       "      <td>0</td>\n",
       "      <td>0.105053</td>\n",
       "      <td>0.058642</td>\n",
       "      <td>0.096625</td>\n",
       "      <td>0.102961</td>\n",
       "      <td>0.026521</td>\n",
       "      <td>0.039165</td>\n",
       "      <td>0.029580</td>\n",
       "      <td>0.027203</td>\n",
       "      <td>O2</td>\n",
       "      <td>161220192</td>\n",
       "    </tr>\n",
       "    <tr>\n",
       "      <td>0</td>\n",
       "      <td>0.049631</td>\n",
       "      <td>0.082311</td>\n",
       "      <td>0.081546</td>\n",
       "      <td>0.077045</td>\n",
       "      <td>0.043068</td>\n",
       "      <td>0.033384</td>\n",
       "      <td>0.032518</td>\n",
       "      <td>0.034944</td>\n",
       "      <td>O2</td>\n",
       "      <td>191220192</td>\n",
       "    </tr>\n",
       "  </tbody>\n",
       "</table>\n",
       "</div>"
      ],
      "text/plain": [
       "   alpha_ey_cl  alpha_ey_op  alpha_ph1  alpha_ph2  beta_ey_cl  beta_ey_op  \\\n",
       "0     0.046115     0.057736   0.061155   0.052793    0.042248    0.039712   \n",
       "0     0.095471     0.066303   0.074363   0.069348    0.029700    0.037101   \n",
       "0     0.105053     0.058642   0.096625   0.102961    0.026521    0.039165   \n",
       "0     0.049631     0.082311   0.081546   0.077045    0.043068    0.033384   \n",
       "\n",
       "   beta_ph1  beta_ph2 ch_name     sub ID  \n",
       "0  0.038438  0.041604      O2  131220192  \n",
       "0  0.035555  0.037192      O2  161220191  \n",
       "0  0.029580  0.027203      O2  161220192  \n",
       "0  0.032518  0.034944      O2  191220192  "
      ]
     },
     "execution_count": 11,
     "metadata": {},
     "output_type": "execute_result"
    }
   ],
   "source": [
    "li = []\n",
    "\n",
    "for filename in all_files:\n",
    "    df = pd.read_csv(filename, index_col=None, header=0)\n",
    "    li.append(df)\n",
    "\n",
    "frame = pd.concat(li,axis=0,ignore_index=False,sort=True)\n",
    "#frame = pd.concat(li,sort=False)\n",
    "frame\n"
   ]
  },
  {
   "cell_type": "code",
   "execution_count": 7,
   "metadata": {},
   "outputs": [],
   "source": [
    "frame.to_csv(r'C:\\Users\\user\\Desktop\\Winter data\\Winter ICA\\feature\\O2(com).csv')"
   ]
  },
  {
   "cell_type": "code",
   "execution_count": null,
   "metadata": {},
   "outputs": [],
   "source": [
    "path =r'C:\\Users\\user\\Desktop\\phase3and 4\\ph34F4.csv'\n",
    "df = pd.read_csv(path)\n",
    "df"
   ]
  },
  {
   "cell_type": "code",
   "execution_count": null,
   "metadata": {},
   "outputs": [],
   "source": [
    "df1= df.loc[:,['alpha pha_31']]\n",
    "df11= df.loc[:,['alpha pha_32']]\n",
    "df2= df.loc[:,['alpha pha_41']]\n",
    "df22= df.loc[:,['alpha pha_42']]\n",
    "df1"
   ]
  },
  {
   "cell_type": "code",
   "execution_count": null,
   "metadata": {},
   "outputs": [],
   "source": [
    "alpha_dif_new3 =  df11.div(df1, fill_value=0)\n",
    "alpha_dif_new4 =  df22.div(df2, fill_value=0)\n",
    "alpha_dif_new4"
   ]
  },
  {
   "cell_type": "code",
   "execution_count": null,
   "metadata": {},
   "outputs": [],
   "source": []
  }
 ],
 "metadata": {
  "kernelspec": {
   "display_name": "Python 3",
   "language": "python",
   "name": "python3"
  },
  "language_info": {
   "codemirror_mode": {
    "name": "ipython",
    "version": 3
   },
   "file_extension": ".py",
   "mimetype": "text/x-python",
   "name": "python",
   "nbconvert_exporter": "python",
   "pygments_lexer": "ipython3",
   "version": "3.7.4"
  }
 },
 "nbformat": 4,
 "nbformat_minor": 2
}
