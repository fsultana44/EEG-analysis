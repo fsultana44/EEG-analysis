{
 "cells": [
  {
   "cell_type": "code",
   "execution_count": 1,
   "metadata": {},
   "outputs": [],
   "source": [
    "#import all the library\n",
    "import pandas as pd\n",
    "import glob\n",
    "from scipy.stats import f_oneway\n",
    "from scipy import stats\n",
    "import matplotlib.pyplot as plt\n",
    "%matplotlib inline\n",
    "import seaborn as sns\n",
    "import numpy as np"
   ]
  },
  {
   "cell_type": "code",
   "execution_count": 8,
   "metadata": {},
   "outputs": [
    {
     "data": {
      "text/html": [
       "<div>\n",
       "<style scoped>\n",
       "    .dataframe tbody tr th:only-of-type {\n",
       "        vertical-align: middle;\n",
       "    }\n",
       "\n",
       "    .dataframe tbody tr th {\n",
       "        vertical-align: top;\n",
       "    }\n",
       "\n",
       "    .dataframe thead th {\n",
       "        text-align: right;\n",
       "    }\n",
       "</style>\n",
       "<table border=\"1\" class=\"dataframe\">\n",
       "  <thead>\n",
       "    <tr style=\"text-align: right;\">\n",
       "      <th></th>\n",
       "      <th>Unnamed: 0</th>\n",
       "      <th>alpha_ey_cl</th>\n",
       "      <th>alpha_ey_op</th>\n",
       "      <th>alpha_ph1</th>\n",
       "      <th>alpha_ph2</th>\n",
       "      <th>beta_ey_cl</th>\n",
       "      <th>beta_ey_op</th>\n",
       "      <th>beta_ph1</th>\n",
       "      <th>beta_ph2</th>\n",
       "      <th>ch_name</th>\n",
       "      <th>sub ID</th>\n",
       "    </tr>\n",
       "  </thead>\n",
       "  <tbody>\n",
       "    <tr>\n",
       "      <td>0</td>\n",
       "      <td>0</td>\n",
       "      <td>0.045668</td>\n",
       "      <td>0.056189</td>\n",
       "      <td>0.055882</td>\n",
       "      <td>0.054257</td>\n",
       "      <td>0.042522</td>\n",
       "      <td>0.040284</td>\n",
       "      <td>0.040915</td>\n",
       "      <td>0.039799</td>\n",
       "      <td>F3</td>\n",
       "      <td>131220191</td>\n",
       "    </tr>\n",
       "    <tr>\n",
       "      <td>1</td>\n",
       "      <td>0</td>\n",
       "      <td>0.075663</td>\n",
       "      <td>0.072504</td>\n",
       "      <td>0.067465</td>\n",
       "      <td>0.048454</td>\n",
       "      <td>0.035254</td>\n",
       "      <td>0.035487</td>\n",
       "      <td>0.036275</td>\n",
       "      <td>0.042190</td>\n",
       "      <td>F3</td>\n",
       "      <td>161220191</td>\n",
       "    </tr>\n",
       "    <tr>\n",
       "      <td>2</td>\n",
       "      <td>0</td>\n",
       "      <td>0.081143</td>\n",
       "      <td>0.040002</td>\n",
       "      <td>0.075550</td>\n",
       "      <td>0.066030</td>\n",
       "      <td>0.032171</td>\n",
       "      <td>0.043572</td>\n",
       "      <td>0.035119</td>\n",
       "      <td>0.037419</td>\n",
       "      <td>F3</td>\n",
       "      <td>161220192</td>\n",
       "    </tr>\n",
       "    <tr>\n",
       "      <td>3</td>\n",
       "      <td>0</td>\n",
       "      <td>0.088172</td>\n",
       "      <td>0.074270</td>\n",
       "      <td>0.031858</td>\n",
       "      <td>0.022743</td>\n",
       "      <td>0.031239</td>\n",
       "      <td>0.035793</td>\n",
       "      <td>0.047387</td>\n",
       "      <td>0.048411</td>\n",
       "      <td>F3</td>\n",
       "      <td>161220192</td>\n",
       "    </tr>\n",
       "  </tbody>\n",
       "</table>\n",
       "</div>"
      ],
      "text/plain": [
       "   Unnamed: 0  alpha_ey_cl  alpha_ey_op  alpha_ph1  alpha_ph2  beta_ey_cl  \\\n",
       "0           0     0.045668     0.056189   0.055882   0.054257    0.042522   \n",
       "1           0     0.075663     0.072504   0.067465   0.048454    0.035254   \n",
       "2           0     0.081143     0.040002   0.075550   0.066030    0.032171   \n",
       "3           0     0.088172     0.074270   0.031858   0.022743    0.031239   \n",
       "\n",
       "   beta_ey_op  beta_ph1  beta_ph2 ch_name     sub ID  \n",
       "0    0.040284  0.040915  0.039799      F3  131220191  \n",
       "1    0.035487  0.036275  0.042190      F3  161220191  \n",
       "2    0.043572  0.035119  0.037419      F3  161220192  \n",
       "3    0.035793  0.047387  0.048411      F3  161220192  "
      ]
     },
     "execution_count": 8,
     "metadata": {},
     "output_type": "execute_result"
    }
   ],
   "source": [
    "path = r'C:\\Users\\user\\Desktop\\Winter data\\Winter ICA\\feature\\F3(com).csv' # use your path\n",
    "df = pd.read_csv(path)# read the csv file\n",
    "df\n"
   ]
  },
  {
   "cell_type": "code",
   "execution_count": null,
   "metadata": {},
   "outputs": [],
   "source": []
  },
  {
   "cell_type": "code",
   "execution_count": 9,
   "metadata": {},
   "outputs": [
    {
     "data": {
      "text/html": [
       "<div>\n",
       "<style scoped>\n",
       "    .dataframe tbody tr th:only-of-type {\n",
       "        vertical-align: middle;\n",
       "    }\n",
       "\n",
       "    .dataframe tbody tr th {\n",
       "        vertical-align: top;\n",
       "    }\n",
       "\n",
       "    .dataframe thead th {\n",
       "        text-align: right;\n",
       "    }\n",
       "</style>\n",
       "<table border=\"1\" class=\"dataframe\">\n",
       "  <thead>\n",
       "    <tr style=\"text-align: right;\">\n",
       "      <th></th>\n",
       "      <th>Unnamed: 0</th>\n",
       "      <th>alpha_ey_cl</th>\n",
       "      <th>alpha_ey_op</th>\n",
       "      <th>alpha_ph1</th>\n",
       "      <th>alpha_ph2</th>\n",
       "      <th>beta_ey_cl</th>\n",
       "      <th>beta_ey_op</th>\n",
       "      <th>beta_ph1</th>\n",
       "      <th>beta_ph2</th>\n",
       "      <th>ch_name</th>\n",
       "      <th>sub ID</th>\n",
       "    </tr>\n",
       "  </thead>\n",
       "  <tbody>\n",
       "    <tr>\n",
       "      <td>0</td>\n",
       "      <td>0</td>\n",
       "      <td>0.066656</td>\n",
       "      <td>0.045567</td>\n",
       "      <td>0.062819</td>\n",
       "      <td>0.054968</td>\n",
       "      <td>0.037849</td>\n",
       "      <td>0.043031</td>\n",
       "      <td>0.039243</td>\n",
       "      <td>0.040486</td>\n",
       "      <td>F4</td>\n",
       "      <td>131220191</td>\n",
       "    </tr>\n",
       "    <tr>\n",
       "      <td>1</td>\n",
       "      <td>0</td>\n",
       "      <td>0.069336</td>\n",
       "      <td>0.064732</td>\n",
       "      <td>0.059057</td>\n",
       "      <td>0.044730</td>\n",
       "      <td>0.036921</td>\n",
       "      <td>0.037863</td>\n",
       "      <td>0.039218</td>\n",
       "      <td>0.044096</td>\n",
       "      <td>F4</td>\n",
       "      <td>161220191</td>\n",
       "    </tr>\n",
       "    <tr>\n",
       "      <td>2</td>\n",
       "      <td>0</td>\n",
       "      <td>0.102565</td>\n",
       "      <td>0.055394</td>\n",
       "      <td>0.086876</td>\n",
       "      <td>0.082107</td>\n",
       "      <td>0.026701</td>\n",
       "      <td>0.040315</td>\n",
       "      <td>0.031590</td>\n",
       "      <td>0.032746</td>\n",
       "      <td>F4</td>\n",
       "      <td>161220192</td>\n",
       "    </tr>\n",
       "    <tr>\n",
       "      <td>3</td>\n",
       "      <td>0</td>\n",
       "      <td>0.071012</td>\n",
       "      <td>0.088396</td>\n",
       "      <td>0.042277</td>\n",
       "      <td>0.038261</td>\n",
       "      <td>0.035423</td>\n",
       "      <td>0.031478</td>\n",
       "      <td>0.043993</td>\n",
       "      <td>0.043958</td>\n",
       "      <td>F4</td>\n",
       "      <td>161220192</td>\n",
       "    </tr>\n",
       "  </tbody>\n",
       "</table>\n",
       "</div>"
      ],
      "text/plain": [
       "   Unnamed: 0  alpha_ey_cl  alpha_ey_op  alpha_ph1  alpha_ph2  beta_ey_cl  \\\n",
       "0           0     0.066656     0.045567   0.062819   0.054968    0.037849   \n",
       "1           0     0.069336     0.064732   0.059057   0.044730    0.036921   \n",
       "2           0     0.102565     0.055394   0.086876   0.082107    0.026701   \n",
       "3           0     0.071012     0.088396   0.042277   0.038261    0.035423   \n",
       "\n",
       "   beta_ey_op  beta_ph1  beta_ph2 ch_name     sub ID  \n",
       "0    0.043031  0.039243  0.040486      F4  131220191  \n",
       "1    0.037863  0.039218  0.044096      F4  161220191  \n",
       "2    0.040315  0.031590  0.032746      F4  161220192  \n",
       "3    0.031478  0.043993  0.043958      F4  161220192  "
      ]
     },
     "execution_count": 9,
     "metadata": {},
     "output_type": "execute_result"
    }
   ],
   "source": [
    "path1 = r'C:\\Users\\user\\Desktop\\Winter data\\Winter ICA\\feature\\F4(com).csv' # use your path\n",
    "df1 = pd.read_csv(path1)# read the csv file\n",
    "df1\n"
   ]
  },
  {
   "cell_type": "code",
   "execution_count": null,
   "metadata": {},
   "outputs": [],
   "source": []
  },
  {
   "cell_type": "code",
   "execution_count": null,
   "metadata": {},
   "outputs": [],
   "source": []
  },
  {
   "cell_type": "code",
   "execution_count": 10,
   "metadata": {},
   "outputs": [],
   "source": [
    "# Subtracting DataFrame2 from DataFrame1\n",
    "\n",
    "eye_cl_s = df['alpha_ey_cl'] - df1['alpha_ey_cl']\n",
    "phase1_s = df['alpha_ph1'] - df1['alpha_ph1']\n",
    "phase2_s = df['alpha_ph2'] - df1['alpha_ph2']\n",
    "eye_op_s = df['alpha_ey_op'] - df1['alpha_ey_op']\n"
   ]
  },
  {
   "cell_type": "code",
   "execution_count": null,
   "metadata": {},
   "outputs": [],
   "source": []
  },
  {
   "cell_type": "code",
   "execution_count": 11,
   "metadata": {},
   "outputs": [],
   "source": [
    "# add DataFrame2 from DataFrame1\n",
    "eye_cl_a = df['alpha_ey_cl'] + df1['alpha_ey_cl']\n",
    "phase1_a = df['alpha_ph1'] + df1['alpha_ph1']\n",
    "phase2_a = df['alpha_ph2'] + df1['alpha_ph2']\n",
    "eye_op_a = df['alpha_ey_op'] + df1['alpha_ey_op']\n"
   ]
  },
  {
   "cell_type": "code",
   "execution_count": 12,
   "metadata": {},
   "outputs": [],
   "source": [
    "# power rattio\n",
    "rt_eye_cl = eye_cl_s/eye_cl_a\n",
    "rt_pha_1 = phase1_s/phase1_a \n",
    "rt_pha_2 = phase2_s/phase2_a\n",
    "rt_eye_op = eye_op_s/eye_op_a\n"
   ]
  },
  {
   "cell_type": "code",
   "execution_count": 13,
   "metadata": {},
   "outputs": [
    {
     "data": {
      "text/plain": [
       "0   -0.006505\n",
       "1    0.039962\n",
       "2   -0.108532\n",
       "3   -0.254384\n",
       "Name: alpha_ph2, dtype: float64"
      ]
     },
     "execution_count": 13,
     "metadata": {},
     "output_type": "execute_result"
    }
   ],
   "source": [
    "rt_pha_2"
   ]
  },
  {
   "cell_type": "code",
   "execution_count": null,
   "metadata": {},
   "outputs": [],
   "source": []
  },
  {
   "cell_type": "code",
   "execution_count": 14,
   "metadata": {},
   "outputs": [],
   "source": [
    "p1 =pd.DataFrame(rt_eye_cl )\n",
    "p2 =pd.DataFrame(rt_eye_op )\n",
    "p3 =pd.DataFrame(rt_pha_1)\n",
    "#p3 =pd.DataFrame(af_m2_rt)\n",
    "p4 =pd.DataFrame(rt_pha_2)\n"
   ]
  },
  {
   "cell_type": "code",
   "execution_count": 15,
   "metadata": {},
   "outputs": [
    {
     "data": {
      "text/html": [
       "<div>\n",
       "<style scoped>\n",
       "    .dataframe tbody tr th:only-of-type {\n",
       "        vertical-align: middle;\n",
       "    }\n",
       "\n",
       "    .dataframe tbody tr th {\n",
       "        vertical-align: top;\n",
       "    }\n",
       "\n",
       "    .dataframe thead th {\n",
       "        text-align: right;\n",
       "    }\n",
       "</style>\n",
       "<table border=\"1\" class=\"dataframe\">\n",
       "  <thead>\n",
       "    <tr style=\"text-align: right;\">\n",
       "      <th></th>\n",
       "      <th>alpha_ey_cl</th>\n",
       "      <th>alpha_ey_op</th>\n",
       "      <th>alpha_ph1</th>\n",
       "      <th>alpha_ph2</th>\n",
       "    </tr>\n",
       "    <tr>\n",
       "      <th>Subject</th>\n",
       "      <th></th>\n",
       "      <th></th>\n",
       "      <th></th>\n",
       "      <th></th>\n",
       "    </tr>\n",
       "  </thead>\n",
       "  <tbody>\n",
       "    <tr>\n",
       "      <td>1</td>\n",
       "      <td>-0.186851</td>\n",
       "      <td>0.104388</td>\n",
       "      <td>-0.058441</td>\n",
       "      <td>-0.006505</td>\n",
       "    </tr>\n",
       "    <tr>\n",
       "      <td>2</td>\n",
       "      <td>0.043634</td>\n",
       "      <td>0.056634</td>\n",
       "      <td>0.066456</td>\n",
       "      <td>0.039962</td>\n",
       "    </tr>\n",
       "    <tr>\n",
       "      <td>3</td>\n",
       "      <td>-0.116609</td>\n",
       "      <td>-0.161342</td>\n",
       "      <td>-0.069726</td>\n",
       "      <td>-0.108532</td>\n",
       "    </tr>\n",
       "    <tr>\n",
       "      <td>4</td>\n",
       "      <td>0.107801</td>\n",
       "      <td>-0.086836</td>\n",
       "      <td>-0.140537</td>\n",
       "      <td>-0.254384</td>\n",
       "    </tr>\n",
       "  </tbody>\n",
       "</table>\n",
       "</div>"
      ],
      "text/plain": [
       "         alpha_ey_cl  alpha_ey_op  alpha_ph1  alpha_ph2\n",
       "Subject                                                \n",
       "1          -0.186851     0.104388  -0.058441  -0.006505\n",
       "2           0.043634     0.056634   0.066456   0.039962\n",
       "3          -0.116609    -0.161342  -0.069726  -0.108532\n",
       "4           0.107801    -0.086836  -0.140537  -0.254384"
      ]
     },
     "execution_count": 15,
     "metadata": {},
     "output_type": "execute_result"
    }
   ],
   "source": [
    "power = pd.concat([p1,p2,p3,p4],axis=1, sort=False)\n",
    "power['Subject'] = [1,2,3,4]  \n",
    "power.set_index('Subject', inplace = True)\n",
    "#power_2= pd.concat([p1,p2,p3,p4],axis=1, sort=False)\n",
    "power"
   ]
  },
  {
   "cell_type": "code",
   "execution_count": 16,
   "metadata": {},
   "outputs": [
    {
     "data": {
      "image/png": "[encoded data removed]",
      "text/plain": [
       "<Figure size 432x288 with 1 Axes>"
      ]
     },
     "metadata": {
      "needs_background": "light"
     },
     "output_type": "display_data"
    }
   ],
   "source": [
    "r1= power.iloc[0]\n",
    "r1\n",
    "r1.plot.bar(rot=0);"
   ]
  },
  {
   "cell_type": "code",
   "execution_count": 25,
   "metadata": {},
   "outputs": [
    {
     "data": {
      "text/plain": [
       "<matplotlib.axes._subplots.AxesSubplot at 0x28b6f8d1f08>"
      ]
     },
     "execution_count": 25,
     "metadata": {},
     "output_type": "execute_result"
    },
    {
     "data": {
      "image/png": "[encoded data removed]",
      "text/plain": [
       "<Figure size 432x288 with 1 Axes>"
      ]
     },
     "metadata": {
      "needs_background": "light"
     },
     "output_type": "display_data"
    }
   ],
   "source": [
    "M=power.mean()\n",
    "M.plot.bar(rot=0)"
   ]
  },
  {
   "cell_type": "code",
   "execution_count": 17,
   "metadata": {},
   "outputs": [
    {
     "data": {
      "text/plain": [
       "Text(0, 0.5, 'Power level')"
      ]
     },
     "execution_count": 17,
     "metadata": {},
     "output_type": "execute_result"
    },
    {
     "data": {
      "image/png": "[encoded data removed]",
      "text/plain": [
       "<Figure size 432x288 with 1 Axes>"
      ]
     },
     "metadata": {
      "needs_background": "light"
     },
     "output_type": "display_data"
    }
   ],
   "source": [
    "power.plot.bar(rot=0);\n",
    "#plt.title('My title')\n",
    "plt.xlabel('Subject')\n",
    "plt.ylabel('Power level')\n",
    "\n",
    "#plot.show(block=True);"
   ]
  },
  {
   "cell_type": "code",
   "execution_count": null,
   "metadata": {},
   "outputs": [],
   "source": [
    "power.T.plot()#power.to_csv('C:/Users/user/Desktop/power.csv')"
   ]
  },
  {
   "cell_type": "code",
   "execution_count": 18,
   "metadata": {},
   "outputs": [
    {
     "data": {
      "text/plain": [
       "<matplotlib.axes._subplots.AxesSubplot at 0x28b6e5fba08>"
      ]
     },
     "execution_count": 18,
     "metadata": {},
     "output_type": "execute_result"
    },
    {
     "data": {
      "image/png": "[encoded data removed]",
      "text/plain": [
       "<Figure size 432x288 with 1 Axes>"
      ]
     },
     "metadata": {
      "needs_background": "light"
     },
     "output_type": "display_data"
    }
   ],
   "source": [
    "\n",
    "power.boxplot(column=['alpha_ey_cl','alpha_ey_op', 'alpha_ph1','alpha_ph2'],showfliers=False)"
   ]
  },
  {
   "cell_type": "code",
   "execution_count": null,
   "metadata": {},
   "outputs": [],
   "source": [
    " Mean =power.mean()"
   ]
  },
  {
   "cell_type": "code",
   "execution_count": 19,
   "metadata": {},
   "outputs": [],
   "source": [
    "c1 = rt_pha_1 - rt_eye_cl\n",
    "c2 = rt_pha_2 - rt_eye_cl\n",
    "c3 = rt_eye_op - rt_eye_cl\n"
   ]
  },
  {
   "cell_type": "code",
   "execution_count": 20,
   "metadata": {},
   "outputs": [],
   "source": [
    "\n",
    "d1 =pd.DataFrame(c1,columns = ['ph1'])\n",
    "d2 =pd.DataFrame(c2,columns = ['ph2'])\n",
    "d3 =pd.DataFrame(c3,columns = ['ey_op'])\n"
   ]
  },
  {
   "cell_type": "code",
   "execution_count": 21,
   "metadata": {},
   "outputs": [
    {
     "data": {
      "text/html": [
       "<div>\n",
       "<style scoped>\n",
       "    .dataframe tbody tr th:only-of-type {\n",
       "        vertical-align: middle;\n",
       "    }\n",
       "\n",
       "    .dataframe tbody tr th {\n",
       "        vertical-align: top;\n",
       "    }\n",
       "\n",
       "    .dataframe thead th {\n",
       "        text-align: right;\n",
       "    }\n",
       "</style>\n",
       "<table border=\"1\" class=\"dataframe\">\n",
       "  <thead>\n",
       "    <tr style=\"text-align: right;\">\n",
       "      <th></th>\n",
       "      <th>ph1</th>\n",
       "      <th>ph2</th>\n",
       "      <th>ey_op</th>\n",
       "    </tr>\n",
       "    <tr>\n",
       "      <th>Subject</th>\n",
       "      <th></th>\n",
       "      <th></th>\n",
       "      <th></th>\n",
       "    </tr>\n",
       "  </thead>\n",
       "  <tbody>\n",
       "    <tr>\n",
       "      <td>1</td>\n",
       "      <td>0.128410</td>\n",
       "      <td>0.180346</td>\n",
       "      <td>0.291239</td>\n",
       "    </tr>\n",
       "    <tr>\n",
       "      <td>2</td>\n",
       "      <td>0.022822</td>\n",
       "      <td>-0.003672</td>\n",
       "      <td>0.012999</td>\n",
       "    </tr>\n",
       "    <tr>\n",
       "      <td>3</td>\n",
       "      <td>0.046883</td>\n",
       "      <td>0.008077</td>\n",
       "      <td>-0.044733</td>\n",
       "    </tr>\n",
       "    <tr>\n",
       "      <td>4</td>\n",
       "      <td>-0.248338</td>\n",
       "      <td>-0.362186</td>\n",
       "      <td>-0.194637</td>\n",
       "    </tr>\n",
       "  </tbody>\n",
       "</table>\n",
       "</div>"
      ],
      "text/plain": [
       "              ph1       ph2     ey_op\n",
       "Subject                              \n",
       "1        0.128410  0.180346  0.291239\n",
       "2        0.022822 -0.003672  0.012999\n",
       "3        0.046883  0.008077 -0.044733\n",
       "4       -0.248338 -0.362186 -0.194637"
      ]
     },
     "execution_count": 21,
     "metadata": {},
     "output_type": "execute_result"
    }
   ],
   "source": [
    "result = pd.concat([d1,d2,d3],axis=1, sort=False)\n",
    "result['Subject'] = [1,2,3,4]  \n",
    "result.set_index('Subject', inplace = True)\n",
    "result   "
   ]
  },
  {
   "cell_type": "code",
   "execution_count": 22,
   "metadata": {},
   "outputs": [
    {
     "data": {
      "image/png": "[encoded data removed]",
      "text/plain": [
       "<Figure size 432x288 with 1 Axes>"
      ]
     },
     "metadata": {
      "needs_background": "light"
     },
     "output_type": "display_data"
    }
   ],
   "source": [
    "\n",
    "result.plot.bar();"
   ]
  },
  {
   "cell_type": "code",
   "execution_count": 23,
   "metadata": {},
   "outputs": [
    {
     "data": {
      "text/plain": [
       "<matplotlib.axes._subplots.AxesSubplot at 0x28b6f6c5108>"
      ]
     },
     "execution_count": 23,
     "metadata": {},
     "output_type": "execute_result"
    },
    {
     "data": {
      "image/png": "[encoded data removed]",
      "text/plain": [
       "<Figure size 432x288 with 1 Axes>"
      ]
     },
     "metadata": {
      "needs_background": "light"
     },
     "output_type": "display_data"
    }
   ],
   "source": [
    "\n",
    "result.boxplot(column=['ph1','ph2', 'ey_op'],showfliers=False)"
   ]
  },
  {
   "cell_type": "code",
   "execution_count": null,
   "metadata": {},
   "outputs": [],
   "source": [
    "import researchpy as rp"
   ]
  },
  {
   "cell_type": "code",
   "execution_count": null,
   "metadata": {},
   "outputs": [],
   "source": [
    "s1=rp.summary_cont(power['alpha_ph1'])\n",
    "s2=rp.summary_cont(power['alpha_ph2'])\n",
    "s3=rp.summary_cont(power['alpha_ey_op'])\n",
    "s4=rp.summary_cont(power['alpha_ey_cl'])"
   ]
  },
  {
   "cell_type": "code",
   "execution_count": null,
   "metadata": {},
   "outputs": [],
   "source": [
    "print(s1,\n",
    "      '-----------------')\n",
    "print(s2,\n",
    "      '-----------------')\n",
    "print(s3,\n",
    "      '-----------------')\n",
    "print(s4)"
   ]
  },
  {
   "cell_type": "code",
   "execution_count": null,
   "metadata": {},
   "outputs": [],
   "source": [
    "p1=rp.summary_cont(c1)\n",
    "p2=rp.summary_cont(c2)\n",
    "p3=rp.summary_cont(c3)\n",
    "print(p1)"
   ]
  },
  {
   "cell_type": "code",
   "execution_count": null,
   "metadata": {},
   "outputs": [],
   "source": [
    "from scipy.stats import f_oneway\n",
    "\n",
    "F, p = f_oneway(rt_eye_cl, rt_eye_op, rt_pha_1)\n",
    "print(F,p)"
   ]
  },
  {
   "cell_type": "code",
   "execution_count": null,
   "metadata": {},
   "outputs": [],
   "source": [
    "from numpy.random import seed\n",
    "from numpy.random import randn\n",
    "from scipy.stats import wilcoxon\n",
    "\n",
    "stat, p = wilcoxon(rt_eye_cl, rt_eye_op)\n",
    "print('Statistics=%.3f, p=%.3f' % (stat, p))\n",
    "# interpret\n",
    "alpha = 0.05\n",
    "if p > alpha:\n",
    "\tprint('Same distribution (fail to reject H0)')\n",
    "else:\n",
    "\tprint('Different distribution (reject H0)')"
   ]
  },
  {
   "cell_type": "code",
   "execution_count": null,
   "metadata": {},
   "outputs": [],
   "source": [
    "from scipy.stats import wilcoxon\n",
    "w, p = wilcoxon(c3,alternative='greater')\n",
    "#w, p = wilcoxon(c3)\n",
    "print(w,p)"
   ]
  },
  {
   "cell_type": "code",
   "execution_count": null,
   "metadata": {},
   "outputs": [],
   "source": [
    "from scipy import stats\n",
    "ttest,pval = stats.ttest_rel(power['alpha_ey_cl'],power['alpha_ey_op'])\n",
    "print('p-inter1',pval,'Stat-inter1',ttest)\n",
    "#print('Stat',ttest)"
   ]
  },
  {
   "cell_type": "code",
   "execution_count": null,
   "metadata": {},
   "outputs": [],
   "source": [
    "import statistics\n",
    "print(\"\\n----------- Calculate Mean -----------\\n\")\n",
    "print(result.mean())\n",
    " \n",
    "print(\"\\n----------- Calculate Median -----------\\n\")\n",
    "print(power.median())\n",
    "2\n",
    "print(\"\\n----------- Calculate Mode -----------\\n\")\n",
    "print(result.mode())"
   ]
  },
  {
   "cell_type": "code",
   "execution_count": null,
   "metadata": {},
   "outputs": [],
   "source": [
    "\n",
    "fig, ax = plt.subplots()\n",
    "\n",
    "power.T.plot(ax=ax,color='gray',legend=False)\n",
    "mdian.plot(ax=ax,linewidth=5,color='red',style='.-')\n",
    "#yerr.plot.area(ax=ax,color='gray')\n",
    "#ax.fill_between(yerr,0)\n",
    "Mean.plot(ax=ax,linewidth=1,color='blue',style='.-')\n",
    "plt.xlabel('phase')\n",
    "# Set the y axis label of the current axis.\n",
    "plt.ylabel('emotion')\n",
    "plt.grid(True)"
   ]
  },
  {
   "cell_type": "code",
   "execution_count": null,
   "metadata": {},
   "outputs": [],
   "source": [
    "mean = power.mean()\n",
    "mean.plot.area(stacked=False)"
   ]
  },
  {
   "cell_type": "code",
   "execution_count": null,
   "metadata": {},
   "outputs": [],
   "source": [
    "\n",
    "import matplotlib.pyplot as plt\n",
    "import seaborn as sns\n",
    "\n",
    "#sns.boxplot(x=\"variable\", y=\"value\", data=pd.melt(power))\n",
    "sns.lineplot(data =power)\n",
    "\n",
    "\n",
    "#plt.show()\n",
    "\n"
   ]
  },
  {
   "cell_type": "code",
   "execution_count": null,
   "metadata": {},
   "outputs": [],
   "source": [
    "w, p = wilcoxon(c2,)\n",
    "w\n",
    "p"
   ]
  },
  {
   "cell_type": "code",
   "execution_count": null,
   "metadata": {},
   "outputs": [],
   "source": [
    "import seaborn \n",
    "mean = power.T.mean(axis = 1)\n",
    "std = power.T.std(axis = 1)\n",
    "\n",
    "n= power.shape[1]\n",
    "yerr = std / np.sqrt(n) * stats.t.ppf(1-0.05/2, n - 1)\n",
    "\n",
    "\n",
    "#seaborn.lineplot(power,y= mean,estimator='mean', ci=95)"
   ]
  },
  {
   "cell_type": "code",
   "execution_count": null,
   "metadata": {},
   "outputs": [],
   "source": [
    "import PyNonpar"
   ]
  },
  {
   "cell_type": "code",
   "execution_count": null,
   "metadata": {},
   "outputs": [],
   "source": [
    "PyNonpar.twosample.wilcoxon_mann_whitney_test(af_sk_rt, alternative=\"less\", method = \"exact\", alpha = 0.05)"
   ]
  },
  {
   "cell_type": "code",
   "execution_count": null,
   "metadata": {},
   "outputs": [],
   "source": [
    "import numpy as np\n",
    "from scipy import stats\n",
    "import seaborn as sns\n",
    "import matplotlib.pyplot as plt\n",
    "\n",
    "def mean_confidence_interval(data, confidence=0.95):\n",
    "    a = 1.0 * np.array(data)\n",
    "    n = len(a)\n",
    "    m, se = np.mean(a), scipy.stats.sem(a)\n",
    "    h = se * scipy.stats.t.ppf((1 + confidence) / 2., n-1)\n",
    "    return m, m-h, m+h"
   ]
  },
  {
   "cell_type": "code",
   "execution_count": null,
   "metadata": {},
   "outputs": [],
   "source": [
    "df = pd.melt(frame = power,\n",
    "             var_name = 'phase',\n",
    "             value_name = 'Emotion')"
   ]
  },
  {
   "cell_type": "code",
   "execution_count": null,
   "metadata": {},
   "outputs": [],
   "source": [
    "fig, ax = plt.subplots()\n",
    "\n",
    "sns.lineplot(ax = ax,\n",
    "             data = df,\n",
    "             x = 'phase',\n",
    "             y = 'Emotion',ci=95)\n",
    "plt.grid(True)\n",
    "plt.show()"
   ]
  },
  {
   "cell_type": "code",
   "execution_count": null,
   "metadata": {},
   "outputs": [],
   "source": [
    "fig, ax = plt.subplots()\n",
    "\n",
    "power.T.plot(ax=ax,color='gray',legend=False)\n",
    "mdian.plot(ax=ax,linewidth=5,color='red',legend=False)\n",
    "sns.lineplot(ax = ax,\n",
    "             data = df,\n",
    "             x = 'phase',\n",
    "             y = 'Emotion',ci=95,legend=False)\n",
    "#yerr.plot.area(ax=ax,color='gray')\n",
    "#ax.fill_between(yerr,0)\n",
    "plt.xlabel('phase')\n",
    "# Set the y axis label of the current axis.\n",
    "plt.ylabel('emotion')\n",
    "plt.grid(True,linestyle='--')\n",
    "plt.gca()"
   ]
  },
  {
   "cell_type": "code",
   "execution_count": null,
   "metadata": {},
   "outputs": [],
   "source": []
  }
 ],
 "metadata": {
  "kernelspec": {
   "display_name": "Python 3",
   "language": "python",
   "name": "python3"
  },
  "language_info": {
   "codemirror_mode": {
    "name": "ipython",
    "version": 3
   },
   "file_extension": ".py",
   "mimetype": "text/x-python",
   "name": "python",
   "nbconvert_exporter": "python",
   "pygments_lexer": "ipython3",
   "version": "3.7.4"
  }
 },
 "nbformat": 4,
 "nbformat_minor": 2
}
