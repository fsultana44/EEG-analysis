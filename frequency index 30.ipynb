{
 "cells": [
  {
   "cell_type": "code",
   "execution_count": 1,
   "metadata": {},
   "outputs": [],
   "source": [
    "import os\n",
    "import mne\n",
    "import numpy as np\n",
    "import matplotlib.pyplot as plt\n",
    "from datetime import timedelta\n",
    "from mne.preprocessing import ICA,read_ica"
   ]
  },
  {
   "cell_type": "code",
   "execution_count": 2,
   "metadata": {},
   "outputs": [
    {
     "name": "stdout",
     "output_type": "stream",
     "text": [
      "Opening raw data file C:/Users/user/Desktop/ICA/31052019 1_ica.fif...\n"
     ]
    },
    {
     "name": "stderr",
     "output_type": "stream",
     "text": [
      "<ipython-input-2-060c4e2f3294>:3: RuntimeWarning: This filename (C:/Users/user/Desktop/ICA/31052019 1_ica.fif) does not conform to MNE naming conventions. All raw files should end with raw.fif, raw_sss.fif, raw_tsss.fif, raw.fif.gz, raw_sss.fif.gz, raw_tsss.fif.gz or _meg.fif\n",
      "  raw = mne.io.read_raw_fif(sample_data_raw_file, preload=True)\n"
     ]
    },
    {
     "name": "stdout",
     "output_type": "stream",
     "text": [
      "    Range : 0 ... 337151 =      0.000 ...  2633.992 secs\n",
      "Ready.\n",
      "Reading 0 ... 337151  =      0.000 ...  2633.992 secs...\n"
     ]
    }
   ],
   "source": [
    "#read the ica file from the folder\n",
    "sample_data_raw_file=('C:/Users/user/Desktop/ICA/31052019 1_ica.fif')\n",
    "raw = mne.io.read_raw_fif(sample_data_raw_file, preload=True)\n",
    "raw_temp=raw.copy()#.crop(600., 620.) #Copy the raw data and crop the 30 sec data basically skype call\n",
    "raw_ch = raw_temp.pick_channels(['F7','F8']) # select only one channel"
   ]
  },
  {
   "cell_type": "code",
   "execution_count": 3,
   "metadata": {},
   "outputs": [
    {
     "data": {
      "text/plain": [
       "['F7', 'F8']"
      ]
     },
     "execution_count": 3,
     "metadata": {},
     "output_type": "execute_result"
    }
   ],
   "source": [
    "raw_temp.info['ch_names']"
   ]
  },
  {
   "cell_type": "code",
   "execution_count": 4,
   "metadata": {},
   "outputs": [],
   "source": [
    "phas01 =raw_ch.copy().crop(16., 26.)#.pick_channels(['F3']) # copy the data\n",
    "phas02=raw_ch.copy().crop(180., 190.)\n",
    "phas31 =raw_ch.copy().crop(1552., 1562.)\n",
    "phas32=raw_ch.copy().crop(1927., 1937.)\n",
    "phas41 =raw_ch.copy().crop(2049., 2059.)\n",
    "phas42=raw_ch.copy().crop(2154., 2164.)\n",
    "phas51 =raw_ch.copy().crop(2258., 2268.)\n",
    "phas52=raw_ch.copy().crop(2424., 2434.)\n"
   ]
  },
  {
   "cell_type": "code",
   "execution_count": 5,
   "metadata": {},
   "outputs": [],
   "source": [
    "#data0,times0 = ph0[:] #extract times and data\n",
    "#print(len(data))\n",
    "#print(data.shape)\n",
    "#s=1/times\n",
    "#print(len(s))\n",
    "#plt.plot(times, data.T)\n",
    "#plt.show()\n",
    "#data_sk,times_sk= ph1_sk[:] \n",
    "#data_m1,times_m1= ph2_m1[:]\n",
    "#data_m2,times_m2= ph2_m2[:]\n",
    "#data_3,times_3= ph_3[:]\n",
    "#data_4,times_4= ph_4[:]\n",
    "#data_5,times_5= ph_5[:]"
   ]
  },
  {
   "cell_type": "code",
   "execution_count": 6,
   "metadata": {},
   "outputs": [],
   "source": [
    "from mne.time_frequency import psd_welch\n",
    "def eeg_power_band(data):\n",
    "    \"\"\"EEG relative power band feature extraction.\n",
    "\n",
    "    This function takes an ``mne.Epochs`` object and creates EEG features based\n",
    "    on relative power in specific frequency bands that are compatible with\n",
    "    scikit-learn.\n",
    "\n",
    "    Parameters\n",
    "    ----------\n",
    "    epochs : Epochs\n",
    "        The data.\n",
    "\n",
    "    Returns\n",
    "    -------\n",
    "    X : numpy array of shape [n_samples, 4]\n",
    "        Transformed data.\n",
    "    \"\"\"\n",
    "    # specific frequency bands\n",
    "    FREQ_BANDS = {#\"delta\": [0.5, 4.5],\n",
    "                  #\"theta\": [4, 8],\n",
    "                  \"alpha\": [8, 13]}\n",
    "                 # \"beta\": [13, 30],\n",
    "                  #\"gamma\": [30, 56]}\n",
    "\n",
    "    psds, freqs = psd_welch(data, picks=[ 'F7'],fmin=8, fmax=13.)\n",
    "    \n",
    "    #print(psds.shape)\n",
    "    #print(freqs.shape)\n",
    "    #plt.semilogy(freqs, (psds.T))\n",
    "    #plt.xlabel('frequency [Hz]')\n",
    "    #plt.ylabel('Linear spectrum [V RMS]')\n",
    "    #plt.show()\n",
    "    # Normalize the PSDs\n",
    "    psds /= np.sum(psds, axis=-1, keepdims=True)\n",
    "\n",
    "    X = []\n",
    "    for fmin, fmax in FREQ_BANDS.values():\n",
    "        psds_band = psds[:,  (freqs >= fmin) & (freqs < fmax)].mean(axis=-1)    #:,\n",
    "        X.append(psds_band.reshape(len(psds), -1))\n",
    "\n",
    "    return np.concatenate(X, axis=1)"
   ]
  },
  {
   "cell_type": "code",
   "execution_count": 7,
   "metadata": {},
   "outputs": [
    {
     "name": "stdout",
     "output_type": "stream",
     "text": [
      "Effective window size : 2.000 (s)\n",
      "Effective window size : 2.000 (s)\n",
      "Effective window size : 2.000 (s)\n",
      "Effective window size : 2.000 (s)\n",
      "Effective window size : 2.000 (s)\n",
      "Effective window size : 2.000 (s)\n",
      "Effective window size : 2.000 (s)\n",
      "Effective window size : 2.000 (s)\n",
      "[[0.0972632]]\n"
     ]
    }
   ],
   "source": [
    "power_01 = eeg_power_band(phas01)\n",
    "power_02 = eeg_power_band(phas02)\n",
    "power_31 = eeg_power_band(phas31)\n",
    "power_32 = eeg_power_band(phas32)\n",
    "power_41 = eeg_power_band(phas41)\n",
    "power_42 = eeg_power_band(phas42)\n",
    "power_51 = eeg_power_band(phas51)\n",
    "power_52 = eeg_power_band(phas52)\n",
    "print(power_01)\n",
    "#print(power_52)"
   ]
  },
  {
   "cell_type": "code",
   "execution_count": 8,
   "metadata": {},
   "outputs": [],
   "source": [
    "import pandas as pd\n",
    "ch_name = ['F7' ]\n",
    "#column = [\"alpha\"]\n",
    "#m0['new'] = 0\n",
    "\n",
    "#print(F1)\n"
   ]
  },
  {
   "cell_type": "code",
   "execution_count": 9,
   "metadata": {},
   "outputs": [],
   "source": [
    "df_0= pd.DataFrame(power_01, columns = ['alpha pha_01'])\n",
    "\n",
    "\n",
    "df_1= pd.DataFrame(power_02, columns = ['alpha pha_02'])\n",
    "\n",
    "df_2= pd.DataFrame(power_31, columns = ['alpha pha_31'])\n",
    "\n",
    "df_3= pd.DataFrame(power_32, columns = ['alpha pha_32'])\n",
    "df_4= pd.DataFrame(power_41, columns = ['alpha pha_41'])\n",
    "\n",
    "df_5= pd.DataFrame(power_42, columns = ['alpha pha_42'])\n",
    "df_6= pd.DataFrame(power_51, columns = ['alpha pha_51'])\n",
    "\n",
    "df_7= pd.DataFrame(power_52, columns = ['alpha pha_52'])\n",
    "\n"
   ]
  },
  {
   "cell_type": "code",
   "execution_count": 10,
   "metadata": {},
   "outputs": [
    {
     "data": {
      "text/html": [
       "<div>\n",
       "<style scoped>\n",
       "    .dataframe tbody tr th:only-of-type {\n",
       "        vertical-align: middle;\n",
       "    }\n",
       "\n",
       "    .dataframe tbody tr th {\n",
       "        vertical-align: top;\n",
       "    }\n",
       "\n",
       "    .dataframe thead th {\n",
       "        text-align: right;\n",
       "    }\n",
       "</style>\n",
       "<table border=\"1\" class=\"dataframe\">\n",
       "  <thead>\n",
       "    <tr style=\"text-align: right;\">\n",
       "      <th></th>\n",
       "      <th>alpha pha_01</th>\n",
       "      <th>alpha pha_02</th>\n",
       "      <th>alpha pha_31</th>\n",
       "      <th>alpha pha_32</th>\n",
       "      <th>alpha pha_41</th>\n",
       "      <th>alpha pha_42</th>\n",
       "      <th>alpha pha_51</th>\n",
       "      <th>alpha pha_52</th>\n",
       "      <th>channel</th>\n",
       "    </tr>\n",
       "    <tr>\n",
       "      <th>sub ID</th>\n",
       "      <th></th>\n",
       "      <th></th>\n",
       "      <th></th>\n",
       "      <th></th>\n",
       "      <th></th>\n",
       "      <th></th>\n",
       "      <th></th>\n",
       "      <th></th>\n",
       "      <th></th>\n",
       "    </tr>\n",
       "  </thead>\n",
       "  <tbody>\n",
       "    <tr>\n",
       "      <td>310520191</td>\n",
       "      <td>0.097263</td>\n",
       "      <td>0.093167</td>\n",
       "      <td>0.09531</td>\n",
       "      <td>0.09835</td>\n",
       "      <td>0.095609</td>\n",
       "      <td>0.098206</td>\n",
       "      <td>0.095967</td>\n",
       "      <td>0.095562</td>\n",
       "      <td>F7</td>\n",
       "    </tr>\n",
       "  </tbody>\n",
       "</table>\n",
       "</div>"
      ],
      "text/plain": [
       "           alpha pha_01  alpha pha_02  alpha pha_31  alpha pha_32  \\\n",
       "sub ID                                                              \n",
       "310520191      0.097263      0.093167       0.09531       0.09835   \n",
       "\n",
       "           alpha pha_41  alpha pha_42  alpha pha_51  alpha pha_52 channel  \n",
       "sub ID                                                                     \n",
       "310520191      0.095609      0.098206      0.095967      0.095562      F7  "
      ]
     },
     "execution_count": 10,
     "metadata": {},
     "output_type": "execute_result"
    }
   ],
   "source": [
    "result =result = pd.concat([df_0,df_1,df_2,df_3,df_4,df_5,df_6,df_7],axis=1, sort=False)\n",
    "result['sub ID'] = 310520191\n",
    "result['channel'] = 'F7'\n",
    "result.set_index('sub ID',inplace=True)\n",
    "result"
   ]
  },
  {
   "cell_type": "code",
   "execution_count": 11,
   "metadata": {},
   "outputs": [],
   "source": [
    "#save the data to a csv_file.\n",
    "result.to_csv(r'C:\\Users\\user\\Desktop\\2nd round\\F7_01\\31052019 1.csv')"
   ]
  },
  {
   "cell_type": "code",
   "execution_count": 12,
   "metadata": {},
   "outputs": [],
   "source": [
    "def eeg_power_band1(data):\n",
    "    \"\"\"EEG relative power band feature extraction.\n",
    "\n",
    "    This function takes an ``mne.Epochs`` object and creates EEG features based\n",
    "    on relative power in specific frequency bands that are compatible with\n",
    "    scikit-learn.\n",
    "\n",
    "    Parameters\n",
    "    ----------\n",
    "    epochs : Epochs\n",
    "        The data.\n",
    "\n",
    "    Returns\n",
    "    -------\n",
    "    X : numpy array of shape [n_samples, 4]\n",
    "        Transformed data.\n",
    "    \"\"\"\n",
    "    # specific frequency bands\n",
    "    FREQ_BANDS = {#\"delta\": [0.5, 4.5],\n",
    "                  #\"theta\": [4, 8],\n",
    "                  \"alpha\": [8, 13]}\n",
    "                 # \"beta\": [13, 30],\n",
    "                  #\"gamma\": [30, 56]}\n",
    "\n",
    "    psds, freqs = psd_welch(data, picks=[ 'F8'],fmin=8, fmax=13.)\n",
    "    \n",
    "    \n",
    "    psds /= np.sum(psds, axis=-1, keepdims=True)\n",
    "\n",
    "    X = []\n",
    "    for fmin, fmax in FREQ_BANDS.values():\n",
    "        psds_band = psds[:,  (freqs >= fmin) & (freqs < fmax)].mean(axis=-1)    #:,\n",
    "        X.append(psds_band.reshape(len(psds), -1))\n",
    "\n",
    "    return np.concatenate(X, axis=1)"
   ]
  },
  {
   "cell_type": "code",
   "execution_count": 13,
   "metadata": {},
   "outputs": [
    {
     "name": "stdout",
     "output_type": "stream",
     "text": [
      "Effective window size : 2.000 (s)\n",
      "Effective window size : 2.000 (s)\n",
      "Effective window size : 2.000 (s)\n",
      "Effective window size : 2.000 (s)\n",
      "Effective window size : 2.000 (s)\n",
      "Effective window size : 2.000 (s)\n",
      "Effective window size : 2.000 (s)\n",
      "Effective window size : 2.000 (s)\n",
      "[[0.09376495]]\n"
     ]
    }
   ],
   "source": [
    "power_001 = eeg_power_band1(phas01)\n",
    "power_002 = eeg_power_band1(phas02)\n",
    "power_031 = eeg_power_band1(phas31)\n",
    "power_032 = eeg_power_band1(phas32)\n",
    "power_041 = eeg_power_band1(phas41)\n",
    "power_042 = eeg_power_band1(phas42)\n",
    "power_051 = eeg_power_band1(phas51)\n",
    "power_052 = eeg_power_band1(phas52)\n",
    "print(power_051)\n",
    "#print(power_52)"
   ]
  },
  {
   "cell_type": "code",
   "execution_count": 14,
   "metadata": {},
   "outputs": [],
   "source": [
    "df_00= pd.DataFrame(power_001, columns = ['alpha pha_01'])\n",
    "\n",
    "\n",
    "df_01= pd.DataFrame(power_002, columns = ['alpha pha_02'])\n",
    "\n",
    "df_02= pd.DataFrame(power_031, columns = ['alpha pha_31'])\n",
    "\n",
    "df_03= pd.DataFrame(power_032, columns = ['alpha pha_32'])\n",
    "df_04= pd.DataFrame(power_041, columns = ['alpha pha_41'])\n",
    "\n",
    "df_05= pd.DataFrame(power_042, columns = ['alpha pha_42'])\n",
    "df_06= pd.DataFrame(power_051, columns = ['alpha pha_51'])\n",
    "\n",
    "df_07= pd.DataFrame(power_052, columns = ['alpha pha_52'])\n"
   ]
  },
  {
   "cell_type": "code",
   "execution_count": 15,
   "metadata": {},
   "outputs": [
    {
     "data": {
      "text/html": [
       "<div>\n",
       "<style scoped>\n",
       "    .dataframe tbody tr th:only-of-type {\n",
       "        vertical-align: middle;\n",
       "    }\n",
       "\n",
       "    .dataframe tbody tr th {\n",
       "        vertical-align: top;\n",
       "    }\n",
       "\n",
       "    .dataframe thead th {\n",
       "        text-align: right;\n",
       "    }\n",
       "</style>\n",
       "<table border=\"1\" class=\"dataframe\">\n",
       "  <thead>\n",
       "    <tr style=\"text-align: right;\">\n",
       "      <th></th>\n",
       "      <th>alpha pha_01</th>\n",
       "      <th>alpha pha_02</th>\n",
       "      <th>alpha pha_31</th>\n",
       "      <th>alpha pha_32</th>\n",
       "      <th>alpha pha_41</th>\n",
       "      <th>alpha pha_42</th>\n",
       "      <th>alpha pha_51</th>\n",
       "      <th>alpha pha_52</th>\n",
       "      <th>channel</th>\n",
       "    </tr>\n",
       "    <tr>\n",
       "      <th>sub ID</th>\n",
       "      <th></th>\n",
       "      <th></th>\n",
       "      <th></th>\n",
       "      <th></th>\n",
       "      <th></th>\n",
       "      <th></th>\n",
       "      <th></th>\n",
       "      <th></th>\n",
       "      <th></th>\n",
       "    </tr>\n",
       "  </thead>\n",
       "  <tbody>\n",
       "    <tr>\n",
       "      <td>310520191</td>\n",
       "      <td>0.096338</td>\n",
       "      <td>0.092991</td>\n",
       "      <td>0.097798</td>\n",
       "      <td>0.092777</td>\n",
       "      <td>0.091561</td>\n",
       "      <td>0.096052</td>\n",
       "      <td>0.093765</td>\n",
       "      <td>0.097749</td>\n",
       "      <td>F8</td>\n",
       "    </tr>\n",
       "  </tbody>\n",
       "</table>\n",
       "</div>"
      ],
      "text/plain": [
       "           alpha pha_01  alpha pha_02  alpha pha_31  alpha pha_32  \\\n",
       "sub ID                                                              \n",
       "310520191      0.096338      0.092991      0.097798      0.092777   \n",
       "\n",
       "           alpha pha_41  alpha pha_42  alpha pha_51  alpha pha_52 channel  \n",
       "sub ID                                                                     \n",
       "310520191      0.091561      0.096052      0.093765      0.097749      F8  "
      ]
     },
     "execution_count": 15,
     "metadata": {},
     "output_type": "execute_result"
    }
   ],
   "source": [
    "result =result = pd.concat([df_00,df_01,df_02,df_03,df_04,df_05,df_06,df_07],axis=1, sort=False)\n",
    "result['sub ID'] = 310520191\n",
    "result['channel'] = 'F8'\n",
    "result.set_index('sub ID',inplace=True)\n",
    "result"
   ]
  },
  {
   "cell_type": "code",
   "execution_count": 16,
   "metadata": {},
   "outputs": [],
   "source": [
    "#save the data to a csv_file.\n",
    "result.to_csv(r'C:\\Users\\user\\Desktop\\2nd round\\F8_01\\31052019 1.csv')"
   ]
  },
  {
   "cell_type": "code",
   "execution_count": null,
   "metadata": {},
   "outputs": [],
   "source": []
  }
 ],
 "metadata": {
  "kernelspec": {
   "display_name": "Python 3",
   "language": "python",
   "name": "python3"
  },
  "language_info": {
   "codemirror_mode": {
    "name": "ipython",
    "version": 3
   },
   "file_extension": ".py",
   "mimetype": "text/x-python",
   "name": "python",
   "nbconvert_exporter": "python",
   "pygments_lexer": "ipython3",
   "version": "3.7.4"
  }
 },
 "nbformat": 4,
 "nbformat_minor": 2
}
